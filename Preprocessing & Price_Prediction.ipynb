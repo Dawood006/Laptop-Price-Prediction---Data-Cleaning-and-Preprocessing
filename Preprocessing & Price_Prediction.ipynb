{
 "cells": [
  {
   "cell_type": "markdown",
   "id": "b381e511-5e51-40c9-bbed-4fda315354a0",
   "metadata": {},
   "source": [
    "### Importing Libararies"
   ]
  },
  {
   "cell_type": "code",
   "execution_count": 9829,
   "id": "d0d991f8-fd11-4d97-b107-5007c5ccb775",
   "metadata": {},
   "outputs": [],
   "source": [
    "import pandas as pd\n",
    "import numpy as np\n",
    "import matplotlib.pyplot as plt\n",
    "plt.style.use('ggplot')\n",
    "import missingno\n",
    "import warnings\n",
    "warnings.filterwarnings('ignore')\n",
    "import seaborn as sns\n",
    "import scipy.stats as stats\n",
    "import re\n",
    "from sklearn.preprocessing import OrdinalEncoder\n",
    "from sklearn.linear_model import LinearRegression\n",
    "from sklearn.model_selection import train_test_split\n",
    "from sklearn.preprocessing import StandardScaler,MaxAbsScaler\n",
    "from sklearn.metrics import mean_squared_error,mean_absolute_error,accuracy_score,r2_score"
   ]
  },
  {
   "cell_type": "markdown",
   "id": "dc84add7-e720-4320-ba9d-2f4f21da099b",
   "metadata": {},
   "source": [
    "### Data"
   ]
  },
  {
   "cell_type": "code",
   "execution_count": 9492,
   "id": "6bca2a8b-3f64-4165-8c46-bc3efb78ea0c",
   "metadata": {},
   "outputs": [],
   "source": [
    "df=pd.read_csv('lappy2.csv')"
   ]
  },
  {
   "cell_type": "code",
   "execution_count": 9493,
   "id": "c1c99eea-f584-4f1d-b162-d0a09c72f699",
   "metadata": {},
   "outputs": [],
   "source": [
    "pd.set_option('display.max_columns',None)"
   ]
  },
  {
   "cell_type": "code",
   "execution_count": 9494,
   "id": "68d7a8d8-d6eb-4031-8054-53dad97d4bfb",
   "metadata": {},
   "outputs": [
    {
     "data": {
      "text/html": [
       "<div>\n",
       "<style scoped>\n",
       "    .dataframe tbody tr th:only-of-type {\n",
       "        vertical-align: middle;\n",
       "    }\n",
       "\n",
       "    .dataframe tbody tr th {\n",
       "        vertical-align: top;\n",
       "    }\n",
       "\n",
       "    .dataframe thead th {\n",
       "        text-align: right;\n",
       "    }\n",
       "</style>\n",
       "<table border=\"1\" class=\"dataframe\">\n",
       "  <thead>\n",
       "    <tr style=\"text-align: right;\">\n",
       "      <th></th>\n",
       "      <th>Unnamed: 0</th>\n",
       "      <th>index</th>\n",
       "      <th>Covered in Warranty</th>\n",
       "      <th>Warranty Service Type</th>\n",
       "      <th>Processor Variant</th>\n",
       "      <th>Clock Speed</th>\n",
       "      <th>Finger Print Sensor</th>\n",
       "      <th>MS Office Provided</th>\n",
       "      <th>Weight</th>\n",
       "      <th>Processor Generation</th>\n",
       "      <th>Screen Resolution</th>\n",
       "      <th>Not Covered in Warranty</th>\n",
       "      <th>Speakers</th>\n",
       "      <th>Sales Package</th>\n",
       "      <th>Disk Drive</th>\n",
       "      <th>Suitable For</th>\n",
       "      <th>Backlit Keyboard</th>\n",
       "      <th>Touchscreen</th>\n",
       "      <th>Processor Name</th>\n",
       "      <th>Bluetooth</th>\n",
       "      <th>RAM Type</th>\n",
       "      <th>Screen Type</th>\n",
       "      <th>id</th>\n",
       "      <th>Domestic Warranty</th>\n",
       "      <th>Series</th>\n",
       "      <th>Operating System</th>\n",
       "      <th>Model Number</th>\n",
       "      <th>Screen Size</th>\n",
       "      <th>USB Port</th>\n",
       "      <th>SSD</th>\n",
       "      <th>Processor Brand</th>\n",
       "      <th>Internal Mic</th>\n",
       "      <th>Wireless LAN</th>\n",
       "      <th>Storage Type</th>\n",
       "      <th>Color</th>\n",
       "      <th>Battery Cell</th>\n",
       "      <th>Type</th>\n",
       "      <th>Keyboard</th>\n",
       "      <th>SSD Capacity</th>\n",
       "      <th>Warranty Summary</th>\n",
       "      <th>Model Name</th>\n",
       "      <th>Part Number</th>\n",
       "      <th>RAM</th>\n",
       "      <th>Graphic Processor</th>\n",
       "      <th>Web Camera</th>\n",
       "      <th>Power Supply</th>\n",
       "      <th>HDMI Port</th>\n",
       "      <th>Dimensions</th>\n",
       "      <th>OS Architecture</th>\n",
       "      <th>Face Recognition</th>\n",
       "      <th>Pointer Device</th>\n",
       "      <th>EMMC Storage Capacity</th>\n",
       "      <th>Dedicated Graphic Memory Type</th>\n",
       "      <th>Dedicated Graphic Memory Capacity</th>\n",
       "      <th>Refresh Rate</th>\n",
       "      <th>Battery Backup</th>\n",
       "      <th>Ethernet</th>\n",
       "      <th>Expandable Memory</th>\n",
       "      <th>Expandable SSD Capacity</th>\n",
       "      <th>Supported Operating System</th>\n",
       "      <th>Cache</th>\n",
       "      <th>Number of Cores</th>\n",
       "      <th>Mic In</th>\n",
       "      <th>Additional Features</th>\n",
       "      <th>Memory Slots</th>\n",
       "      <th>RAM Frequency</th>\n",
       "      <th>RJ45</th>\n",
       "      <th>Sound Properties</th>\n",
       "      <th>Lock Port</th>\n",
       "      <th>Security Chip</th>\n",
       "      <th>Chipset</th>\n",
       "      <th>RPM</th>\n",
       "      <th>Multi Card Slot</th>\n",
       "      <th>Hardware Interface</th>\n",
       "      <th>Sound Chip</th>\n",
       "      <th>Included Software</th>\n",
       "      <th>Antivirus</th>\n",
       "      <th>Inbuilt 4G LTE</th>\n",
       "      <th>Stylus Included</th>\n",
       "      <th>NFC Support</th>\n",
       "      <th>Wireless WAN</th>\n",
       "      <th>Laptop Bag</th>\n",
       "      <th>System Architecture</th>\n",
       "      <th>Brightness</th>\n",
       "      <th>RJ11</th>\n",
       "      <th>VGA Port</th>\n",
       "      <th>Color Gamut</th>\n",
       "      <th>TGP</th>\n",
       "      <th>Other Accessories</th>\n",
       "      <th>International Warranty</th>\n",
       "      <th>HDD Capacity</th>\n",
       "      <th>Dock Port</th>\n",
       "      <th>Firewire Port</th>\n",
       "      <th>Read/Write Speed</th>\n",
       "      <th>S-video</th>\n",
       "      <th>Certification</th>\n",
       "      <th>Recovery Options</th>\n",
       "      <th>Optane Memory</th>\n",
       "      <th>Rating</th>\n",
       "      <th>price</th>\n",
       "      <th>Link</th>\n",
       "      <th>Names</th>\n",
       "    </tr>\n",
       "  </thead>\n",
       "  <tbody>\n",
       "    <tr>\n",
       "      <th>0</th>\n",
       "      <td>0</td>\n",
       "      <td>0</td>\n",
       "      <td>Manufacturing Defects</td>\n",
       "      <td>Carry-in</td>\n",
       "      <td>N305</td>\n",
       "      <td>Max Frequency Up to 3.8 GHz</td>\n",
       "      <td>NaN</td>\n",
       "      <td>No</td>\n",
       "      <td>1.43 Kg</td>\n",
       "      <td>NaN</td>\n",
       "      <td>1920 x 1080 Pixel</td>\n",
       "      <td>Physical damage</td>\n",
       "      <td>Yes</td>\n",
       "      <td>Laptop, Power Adaptor, User Guide, Warranty Do...</td>\n",
       "      <td>Not Available</td>\n",
       "      <td>Processing &amp; Multitasking</td>\n",
       "      <td>No</td>\n",
       "      <td>No</td>\n",
       "      <td>Core i3</td>\n",
       "      <td>v5.2</td>\n",
       "      <td>LPDDR5</td>\n",
       "      <td>Full HD IPS LED-backlit LCD Dislpay</td>\n",
       "      <td>0</td>\n",
       "      <td>NaN</td>\n",
       "      <td>Chromebook Plus Google AI</td>\n",
       "      <td>Chrome</td>\n",
       "      <td>CB514-4H-39T7</td>\n",
       "      <td>35.56 cm (14 Inch)</td>\n",
       "      <td>2 x USB 3.2 Gen 1 Type-A port, 2 x USB 3.2 Gen...</td>\n",
       "      <td>Yes</td>\n",
       "      <td>Intel</td>\n",
       "      <td>Yes</td>\n",
       "      <td>Intel Wireless Wi-Fi 6E AX211</td>\n",
       "      <td>SSD</td>\n",
       "      <td>Steel Gray</td>\n",
       "      <td>3 Cell</td>\n",
       "      <td>Chromebook</td>\n",
       "      <td>Acer FineTip keyboard with international langu...</td>\n",
       "      <td>256 GB</td>\n",
       "      <td>1 Year Carry-in Warranty</td>\n",
       "      <td>Chromebook Plus</td>\n",
       "      <td>NX.KUTSI.002</td>\n",
       "      <td>8 GB</td>\n",
       "      <td>Intel Integrated UHD</td>\n",
       "      <td>FHD camera, 1920 x 1080 Resolution, 1080p vide...</td>\n",
       "      <td>45 W</td>\n",
       "      <td>NaN</td>\n",
       "      <td>326.87 x 224.93 x 20.5 mm</td>\n",
       "      <td>NaN</td>\n",
       "      <td>NaN</td>\n",
       "      <td>NaN</td>\n",
       "      <td>NaN</td>\n",
       "      <td>NaN</td>\n",
       "      <td>NaN</td>\n",
       "      <td>NaN</td>\n",
       "      <td>NaN</td>\n",
       "      <td>NaN</td>\n",
       "      <td>NaN</td>\n",
       "      <td>NaN</td>\n",
       "      <td>NaN</td>\n",
       "      <td>NaN</td>\n",
       "      <td>NaN</td>\n",
       "      <td>NaN</td>\n",
       "      <td>NaN</td>\n",
       "      <td>NaN</td>\n",
       "      <td>NaN</td>\n",
       "      <td>NaN</td>\n",
       "      <td>NaN</td>\n",
       "      <td>NaN</td>\n",
       "      <td>NaN</td>\n",
       "      <td>NaN</td>\n",
       "      <td>NaN</td>\n",
       "      <td>NaN</td>\n",
       "      <td>NaN</td>\n",
       "      <td>NaN</td>\n",
       "      <td>NaN</td>\n",
       "      <td>NaN</td>\n",
       "      <td>NaN</td>\n",
       "      <td>NaN</td>\n",
       "      <td>NaN</td>\n",
       "      <td>NaN</td>\n",
       "      <td>NaN</td>\n",
       "      <td>NaN</td>\n",
       "      <td>NaN</td>\n",
       "      <td>NaN</td>\n",
       "      <td>NaN</td>\n",
       "      <td>NaN</td>\n",
       "      <td>NaN</td>\n",
       "      <td>NaN</td>\n",
       "      <td>NaN</td>\n",
       "      <td>NaN</td>\n",
       "      <td>NaN</td>\n",
       "      <td>NaN</td>\n",
       "      <td>NaN</td>\n",
       "      <td>NaN</td>\n",
       "      <td>NaN</td>\n",
       "      <td>NaN</td>\n",
       "      <td>NaN</td>\n",
       "      <td>3.8</td>\n",
       "      <td>₹19,990</td>\n",
       "      <td>https://www.flipkart.com/acer-chromebook-plus-...</td>\n",
       "      <td>Acer Chromebook Plus Google AI Intel Core i3 N...</td>\n",
       "    </tr>\n",
       "  </tbody>\n",
       "</table>\n",
       "</div>"
      ],
      "text/plain": [
       "   Unnamed: 0  index    Covered in Warranty Warranty Service Type  \\\n",
       "0           0      0  Manufacturing Defects              Carry-in   \n",
       "\n",
       "  Processor Variant                  Clock Speed Finger Print Sensor  \\\n",
       "0              N305  Max Frequency Up to 3.8 GHz                 NaN   \n",
       "\n",
       "  MS Office Provided   Weight Processor Generation  Screen Resolution  \\\n",
       "0                 No  1.43 Kg                  NaN  1920 x 1080 Pixel   \n",
       "\n",
       "  Not Covered in Warranty Speakers  \\\n",
       "0         Physical damage      Yes   \n",
       "\n",
       "                                       Sales Package     Disk Drive  \\\n",
       "0  Laptop, Power Adaptor, User Guide, Warranty Do...  Not Available   \n",
       "\n",
       "                Suitable For Backlit Keyboard Touchscreen Processor Name  \\\n",
       "0  Processing & Multitasking               No          No        Core i3   \n",
       "\n",
       "  Bluetooth RAM Type                          Screen Type  id  \\\n",
       "0      v5.2   LPDDR5  Full HD IPS LED-backlit LCD Dislpay   0   \n",
       "\n",
       "  Domestic Warranty                     Series Operating System  \\\n",
       "0               NaN  Chromebook Plus Google AI           Chrome   \n",
       "\n",
       "    Model Number         Screen Size  \\\n",
       "0  CB514-4H-39T7  35.56 cm (14 Inch)   \n",
       "\n",
       "                                            USB Port  SSD Processor Brand  \\\n",
       "0  2 x USB 3.2 Gen 1 Type-A port, 2 x USB 3.2 Gen...  Yes           Intel   \n",
       "\n",
       "  Internal Mic                   Wireless LAN Storage Type       Color  \\\n",
       "0          Yes  Intel Wireless Wi-Fi 6E AX211          SSD  Steel Gray   \n",
       "\n",
       "  Battery Cell        Type                                           Keyboard  \\\n",
       "0       3 Cell  Chromebook  Acer FineTip keyboard with international langu...   \n",
       "\n",
       "  SSD Capacity          Warranty Summary       Model Name   Part Number   RAM  \\\n",
       "0       256 GB  1 Year Carry-in Warranty  Chromebook Plus  NX.KUTSI.002  8 GB   \n",
       "\n",
       "      Graphic Processor                                         Web Camera  \\\n",
       "0  Intel Integrated UHD  FHD camera, 1920 x 1080 Resolution, 1080p vide...   \n",
       "\n",
       "  Power Supply HDMI Port                 Dimensions OS Architecture  \\\n",
       "0         45 W       NaN  326.87 x 224.93 x 20.5 mm             NaN   \n",
       "\n",
       "  Face Recognition Pointer Device EMMC Storage Capacity  \\\n",
       "0              NaN            NaN                   NaN   \n",
       "\n",
       "  Dedicated Graphic Memory Type Dedicated Graphic Memory Capacity  \\\n",
       "0                           NaN                               NaN   \n",
       "\n",
       "  Refresh Rate Battery Backup Ethernet Expandable Memory  \\\n",
       "0          NaN            NaN      NaN               NaN   \n",
       "\n",
       "  Expandable SSD Capacity Supported Operating System Cache  Number of Cores  \\\n",
       "0                     NaN                        NaN   NaN              NaN   \n",
       "\n",
       "  Mic In Additional Features Memory Slots RAM Frequency RJ45 Sound Properties  \\\n",
       "0    NaN                 NaN          NaN           NaN  NaN              NaN   \n",
       "\n",
       "  Lock Port Security Chip Chipset  RPM Multi Card Slot Hardware Interface  \\\n",
       "0       NaN           NaN     NaN  NaN             NaN                NaN   \n",
       "\n",
       "  Sound Chip Included Software Antivirus Inbuilt 4G LTE Stylus Included  \\\n",
       "0        NaN               NaN       NaN            NaN             NaN   \n",
       "\n",
       "  NFC Support Wireless WAN Laptop Bag System Architecture Brightness RJ11  \\\n",
       "0         NaN          NaN        NaN                 NaN        NaN  NaN   \n",
       "\n",
       "  VGA Port Color Gamut  TGP Other Accessories International Warranty  \\\n",
       "0      NaN         NaN  NaN               NaN                    NaN   \n",
       "\n",
       "  HDD Capacity Dock Port Firewire Port Read/Write Speed S-video Certification  \\\n",
       "0          NaN       NaN           NaN              NaN     NaN           NaN   \n",
       "\n",
       "  Recovery Options Optane Memory  Rating    price  \\\n",
       "0              NaN           NaN     3.8  ₹19,990   \n",
       "\n",
       "                                                Link  \\\n",
       "0  https://www.flipkart.com/acer-chromebook-plus-...   \n",
       "\n",
       "                                               Names  \n",
       "0  Acer Chromebook Plus Google AI Intel Core i3 N...  "
      ]
     },
     "execution_count": 9494,
     "metadata": {},
     "output_type": "execute_result"
    }
   ],
   "source": [
    "df.head(1)"
   ]
  },
  {
   "cell_type": "markdown",
   "id": "61e93333-1741-481c-9590-25c1ed1e4e36",
   "metadata": {},
   "source": [
    "### Elimanting Duplicates\n"
   ]
  },
  {
   "cell_type": "code",
   "execution_count": 9496,
   "id": "30d51347-771d-490f-a8d3-8f6f3c0e90f8",
   "metadata": {},
   "outputs": [],
   "source": [
    "df.drop(columns=['Unnamed: 0','index','id','Link'],axis=1,inplace=True) "
   ]
  },
  {
   "cell_type": "code",
   "execution_count": 9497,
   "id": "2eebbf2f-4b4c-4419-b325-1bb37abb17e5",
   "metadata": {},
   "outputs": [
    {
     "data": {
      "text/plain": [
       "False    548\n",
       "True     412\n",
       "Name: count, dtype: int64"
      ]
     },
     "execution_count": 9497,
     "metadata": {},
     "output_type": "execute_result"
    }
   ],
   "source": [
    "df.duplicated().value_counts() #After dropping Links,index,id"
   ]
  },
  {
   "cell_type": "code",
   "execution_count": 9498,
   "id": "6e28ba25-d0e3-47cc-b05d-a70fdaf6dde1",
   "metadata": {},
   "outputs": [],
   "source": [
    "df.drop_duplicates(inplace=True)"
   ]
  },
  {
   "cell_type": "markdown",
   "id": "0415ed46-db02-4af0-a451-005f05e6b071",
   "metadata": {},
   "source": [
    "#### _Finger Print Sensor_"
   ]
  },
  {
   "cell_type": "code",
   "execution_count": 9500,
   "id": "c505d7a5-a67c-4fa9-a69b-64b45c68a843",
   "metadata": {},
   "outputs": [],
   "source": [
    "df['Finger Print Sensor'].fillna(value='No',inplace=True);"
   ]
  },
  {
   "cell_type": "code",
   "execution_count": 9501,
   "id": "9a9e50f5-8651-4ad6-ab22-b7eb0a23707e",
   "metadata": {},
   "outputs": [
    {
     "data": {
      "text/plain": [
       "Finger Print Sensor\n",
       "No     486\n",
       "Yes     62\n",
       "Name: count, dtype: int64"
      ]
     },
     "execution_count": 9501,
     "metadata": {},
     "output_type": "execute_result"
    }
   ],
   "source": [
    "df['Finger Print Sensor'].unique()\n",
    "df['Finger Print Sensor'].value_counts()"
   ]
  },
  {
   "cell_type": "code",
   "execution_count": 9502,
   "id": "8bb0e131-6e72-4d55-93c7-cc28ba6f11b9",
   "metadata": {},
   "outputs": [],
   "source": [
    "df['Finger Print Sensor']=pd.get_dummies(df['Finger Print Sensor'],drop_first='No').astype(int)"
   ]
  },
  {
   "cell_type": "markdown",
   "id": "ddd6c548-5c40-445a-a4c6-32a0aef8b7b7",
   "metadata": {},
   "source": [
    "#### _Face Recognition_"
   ]
  },
  {
   "cell_type": "code",
   "execution_count": 9504,
   "id": "a61e9872-162e-442b-b698-2e067732867c",
   "metadata": {},
   "outputs": [
    {
     "data": {
      "text/plain": [
       "array([nan, 'No', 'Yes'], dtype=object)"
      ]
     },
     "execution_count": 9504,
     "metadata": {},
     "output_type": "execute_result"
    }
   ],
   "source": [
    "df['Face Recognition'].unique()"
   ]
  },
  {
   "cell_type": "code",
   "execution_count": 9505,
   "id": "940adec1-64b4-4feb-9b9d-e27430268fb3",
   "metadata": {},
   "outputs": [],
   "source": [
    "df['Face Recognition'].fillna('No',inplace=True)"
   ]
  },
  {
   "cell_type": "code",
   "execution_count": 9506,
   "id": "9087f6d0-ca81-4b3b-9e07-04b99cd19118",
   "metadata": {},
   "outputs": [],
   "source": [
    "df['Face Recognition']=pd.get_dummies(df['Face Recognition'],drop_first='No').astype(int)"
   ]
  },
  {
   "cell_type": "markdown",
   "id": "a208ca4f-52a4-43df-a85d-847d1fa89d93",
   "metadata": {},
   "source": [
    "### Dropping Columns\n",
    "#### Unecessary columns 👇"
   ]
  },
  {
   "cell_type": "markdown",
   "id": "31c2cb25-774a-4355-9ab1-a0f181395edc",
   "metadata": {},
   "source": [
    "##### Sorting columns having more than 80% NULL cells"
   ]
  },
  {
   "cell_type": "code",
   "execution_count": 9509,
   "id": "fae11007-5130-41c3-8eac-0b28152b58d8",
   "metadata": {},
   "outputs": [
    {
     "name": "stdout",
     "output_type": "stream",
     "text": [
      "EMMC Storage Capacity >> 97.99\n",
      "Refresh Rate >> 88.32\n",
      "Ethernet >> 88.5\n",
      "Expandable Memory >> 81.02\n",
      "Expandable SSD Capacity >> 95.26\n",
      "Memory Slots >> 86.5\n",
      "RJ45 >> 82.66\n",
      "Lock Port >> 95.8\n",
      "Security Chip >> 88.69\n",
      "Chipset >> 89.05\n",
      "RPM >> 92.34\n",
      "Multi Card Slot >> 84.85\n",
      "Hardware Interface >> 81.75\n",
      "Sound Chip >> 92.7\n",
      "Antivirus >> 96.17\n",
      "Inbuilt 4G LTE >> 96.35\n",
      "Stylus Included >> 95.44\n",
      "NFC Support >> 95.44\n",
      "Wireless WAN >> 95.26\n",
      "Laptop Bag >> 89.42\n",
      "System Architecture >> 81.39\n",
      "Brightness >> 95.8\n",
      "RJ11 >> 95.26\n",
      "VGA Port >> 95.26\n",
      "Color Gamut >> 97.08\n",
      "TGP >> 97.63\n",
      "Other Accessories >> 97.81\n",
      "International Warranty >> 97.81\n",
      "HDD Capacity >> 97.08\n",
      "Dock Port >> 97.63\n",
      "Firewire Port >> 97.81\n",
      "Read/Write Speed >> 99.82\n",
      "S-video >> 98.36\n",
      "Certification >> 99.09\n",
      "Recovery Options >> 97.45\n",
      "Optane Memory >> 99.82\n"
     ]
    }
   ],
   "source": [
    "for i in df.columns:\n",
    "    if round(df[i].isna().sum()/len(df)*100,2)>80:\n",
    "        print(f'{i} >> {round(df[i].isna().sum()/len(df)*100,2)}')\n"
   ]
  },
  {
   "cell_type": "code",
   "execution_count": 9510,
   "id": "50549c06-2b03-4aee-b538-f5e68b05f089",
   "metadata": {},
   "outputs": [],
   "source": [
    "df.drop(columns=['Refresh Rate','RPM',\n",
    "'Inbuilt 4G LTE',\n",
    "'NFC Support',\n",
    "'Lock Port',\n",
    "'TGP',\n",
    "'Antivirus',\n",
    "'Brightness', \n",
    "'EMMC Storage Capacity',\n",
    "'International Warranty',\n",
    "'Stylus Included',\n",
    "'S-video',\n",
    "'Dock Port',\n",
    "'Firewire Port',\n",
    "'RJ11',\n",
    "'VGA Port',\n",
    "'Read/Write Speed',\n",
    "'Color Gamut',\n",
    "'Recovery Options',\n",
    "'Certification',\n",
    "'Optane Memory',\n",
    "'Refresh Rate',\n",
    "'Ethernet',\n",
    "'Laptop Bag',\n",
    "'Security Chip',\n",
    "'Sound Chip',\n",
    "'Sound Properties',\n",
    "'RJ45',\n",
    "'Multi Card Slot',\n",
    "'Memory Slots',\n",
    "'Hardware Interface',\n",
    "'Battery Backup',\n",
    "'Power Supply',\n",
    "'Mic In',\n",
    "'Pointer Device',\n",
    "'Additional Features',\n",
    "'Battery Cell',\n",
    "'Cache',\n",
    "'Internal Mic',\n",
    "'Keyboard',\n",
    "'Clock Speed',\n",
    "'HDMI Port',\n",
    "'Speakers',\n",
    "'Wireless LAN',\n",
    "'Warranty Service Type','Wireless WAN',  \n",
    "'Not Covered in Warranty'],axis=1,inplace=True)\n"
   ]
  },
  {
   "cell_type": "code",
   "execution_count": 9511,
   "id": "56c979aa-1bb1-41fa-b8ec-a7383ad2c0a4",
   "metadata": {},
   "outputs": [],
   "source": [
    "df.drop(columns=['Disk Drive','Web Camera','Bluetooth','Sales Package','Color','Part Number'],axis=1,inplace=True)"
   ]
  },
  {
   "cell_type": "markdown",
   "id": "57d7f3e0-06c1-4cd7-9522-938dfd7448db",
   "metadata": {},
   "source": [
    "## Transforming Data 👇"
   ]
  },
  {
   "cell_type": "markdown",
   "id": "f964dda4-5fb3-4604-900f-f80d9ea8b951",
   "metadata": {},
   "source": [
    " _We are converting all relevant features in the dataset into numeric formats wherever possible. This transformation is necessary because linear models require numeric input to perform calculations and make predictions. By encoding categorical variables, scaling numerical values, and handling text or datetime features appropriately, we ensure that the data is compatible with linear modeling techniques. This step will help us build a robust and interpretable model._"
   ]
  },
  {
   "cell_type": "code",
   "execution_count": 9514,
   "id": "4030722e-63ee-4dfb-9a39-c7d04d7289d7",
   "metadata": {},
   "outputs": [
    {
     "data": {
      "text/plain": [
       "Index(['Covered in Warranty', 'Processor Variant', 'Finger Print Sensor',\n",
       "       'MS Office Provided', 'Weight', 'Processor Generation',\n",
       "       'Screen Resolution', 'Suitable For', 'Backlit Keyboard', 'Touchscreen',\n",
       "       'Processor Name', 'RAM Type', 'Screen Type', 'Domestic Warranty',\n",
       "       'Series', 'Operating System', 'Model Number', 'Screen Size', 'USB Port',\n",
       "       'SSD', 'Processor Brand', 'Storage Type', 'Type', 'SSD Capacity',\n",
       "       'Warranty Summary', 'Model Name', 'RAM', 'Graphic Processor',\n",
       "       'Dimensions', 'OS Architecture', 'Face Recognition',\n",
       "       'Dedicated Graphic Memory Type', 'Dedicated Graphic Memory Capacity',\n",
       "       'Expandable Memory', 'Expandable SSD Capacity',\n",
       "       'Supported Operating System', 'Number of Cores', 'RAM Frequency',\n",
       "       'Chipset', 'Included Software', 'System Architecture',\n",
       "       'Other Accessories', 'HDD Capacity', 'Rating', 'price', 'Names'],\n",
       "      dtype='object')"
      ]
     },
     "execution_count": 9514,
     "metadata": {},
     "output_type": "execute_result"
    }
   ],
   "source": [
    "df.columns\n"
   ]
  },
  {
   "cell_type": "markdown",
   "id": "625732ed-3280-449e-8afb-b2f101b99982",
   "metadata": {},
   "source": [
    "#### *Price*"
   ]
  },
  {
   "cell_type": "code",
   "execution_count": 9516,
   "id": "218126ea-46a6-4d65-81de-83fe0213f7f3",
   "metadata": {},
   "outputs": [
    {
     "data": {
      "text/plain": [
       "75    ₹59,990\n",
       "Name: price, dtype: object"
      ]
     },
     "execution_count": 9516,
     "metadata": {},
     "output_type": "execute_result"
    }
   ],
   "source": [
    "df.price.sample()"
   ]
  },
  {
   "cell_type": "code",
   "execution_count": 9517,
   "id": "5dc1d630-545f-4ce6-851b-92cb7e1c1080",
   "metadata": {},
   "outputs": [],
   "source": [
    "df['Price']=df.price.apply(lambda x:x.split('₹')[1])\n",
    "df['Price']=df.Price.apply(lambda x :x.split(',')[0]+x.split(',')[1]  if len(x.split(','))<3 else x.split(',')[0]+x.split(',')[1]+x.split(',')[2])\n",
    "df.drop(columns=['price'],axis=1,inplace=True)"
   ]
  },
  {
   "cell_type": "code",
   "execution_count": 9518,
   "id": "0f8372f6-c8a1-4003-88cb-2cc91c966f0f",
   "metadata": {},
   "outputs": [],
   "source": [
    "df['Price']=df['Price'].astype(int)"
   ]
  },
  {
   "cell_type": "code",
   "execution_count": 9519,
   "id": "203e0029-5ea4-45fd-ac48-5dd7054b97bc",
   "metadata": {},
   "outputs": [
    {
     "data": {
      "text/plain": [
       "738    64990\n",
       "Name: Price, dtype: int32"
      ]
     },
     "execution_count": 9519,
     "metadata": {},
     "output_type": "execute_result"
    }
   ],
   "source": [
    "df.Price.sample()"
   ]
  },
  {
   "cell_type": "markdown",
   "id": "fe0180ce-011d-463e-b281-3e33c3135532",
   "metadata": {},
   "source": [
    "#### *RAM*"
   ]
  },
  {
   "cell_type": "code",
   "execution_count": 9521,
   "id": "b594882e-7813-4ec9-b044-c0412162c5a3",
   "metadata": {},
   "outputs": [],
   "source": [
    "df['RAM (GB)']=df.RAM.apply(lambda x :x.split(' ')[0])\n",
    "df['RAM (GB)']=df['RAM (GB)'].astype(int)"
   ]
  },
  {
   "cell_type": "code",
   "execution_count": 9522,
   "id": "bddd8d57-5354-4739-b11a-16a5aefc8928",
   "metadata": {},
   "outputs": [
    {
     "data": {
      "text/plain": [
       "array([ 8, 16,  4, 32, 24, 12, 18, 36, 64])"
      ]
     },
     "execution_count": 9522,
     "metadata": {},
     "output_type": "execute_result"
    }
   ],
   "source": [
    "df['RAM (GB)'].unique()"
   ]
  },
  {
   "cell_type": "markdown",
   "id": "ded2891b-d86a-4b4e-8382-decaccfc4d46",
   "metadata": {},
   "source": [
    "#### *Cores*"
   ]
  },
  {
   "cell_type": "code",
   "execution_count": 9524,
   "id": "30fe9bc1-2f34-48b3-b6b0-7f0239cc209b",
   "metadata": {},
   "outputs": [
    {
     "data": {
      "text/plain": [
       "(194, 354, 548)"
      ]
     },
     "execution_count": 9524,
     "metadata": {},
     "output_type": "execute_result"
    }
   ],
   "source": [
    "df['Number of Cores'].unique()\n",
    "df['Number of Cores'].value_counts().sum(),df['Number of Cores'].isna().sum(),len(df)"
   ]
  },
  {
   "cell_type": "code",
   "execution_count": 9525,
   "id": "3a715ee9-9141-487c-aef5-27647825c086",
   "metadata": {},
   "outputs": [
    {
     "data": {
      "text/html": [
       "<div>\n",
       "<style scoped>\n",
       "    .dataframe tbody tr th:only-of-type {\n",
       "        vertical-align: middle;\n",
       "    }\n",
       "\n",
       "    .dataframe tbody tr th {\n",
       "        vertical-align: top;\n",
       "    }\n",
       "\n",
       "    .dataframe thead th {\n",
       "        text-align: right;\n",
       "    }\n",
       "</style>\n",
       "<table border=\"1\" class=\"dataframe\">\n",
       "  <thead>\n",
       "    <tr style=\"text-align: right;\">\n",
       "      <th></th>\n",
       "      <th>Covered in Warranty</th>\n",
       "      <th>Processor Variant</th>\n",
       "      <th>Finger Print Sensor</th>\n",
       "      <th>MS Office Provided</th>\n",
       "      <th>Weight</th>\n",
       "      <th>Processor Generation</th>\n",
       "      <th>Screen Resolution</th>\n",
       "      <th>Suitable For</th>\n",
       "      <th>Backlit Keyboard</th>\n",
       "      <th>Touchscreen</th>\n",
       "      <th>Processor Name</th>\n",
       "      <th>RAM Type</th>\n",
       "      <th>Screen Type</th>\n",
       "      <th>Domestic Warranty</th>\n",
       "      <th>Series</th>\n",
       "      <th>Operating System</th>\n",
       "      <th>Model Number</th>\n",
       "      <th>Screen Size</th>\n",
       "      <th>USB Port</th>\n",
       "      <th>SSD</th>\n",
       "      <th>Processor Brand</th>\n",
       "      <th>Storage Type</th>\n",
       "      <th>Type</th>\n",
       "      <th>SSD Capacity</th>\n",
       "      <th>Warranty Summary</th>\n",
       "      <th>Model Name</th>\n",
       "      <th>RAM</th>\n",
       "      <th>Graphic Processor</th>\n",
       "      <th>Dimensions</th>\n",
       "      <th>OS Architecture</th>\n",
       "      <th>Face Recognition</th>\n",
       "      <th>Dedicated Graphic Memory Type</th>\n",
       "      <th>Dedicated Graphic Memory Capacity</th>\n",
       "      <th>Expandable Memory</th>\n",
       "      <th>Expandable SSD Capacity</th>\n",
       "      <th>Supported Operating System</th>\n",
       "      <th>Number of Cores</th>\n",
       "      <th>RAM Frequency</th>\n",
       "      <th>Chipset</th>\n",
       "      <th>Included Software</th>\n",
       "      <th>System Architecture</th>\n",
       "      <th>Other Accessories</th>\n",
       "      <th>HDD Capacity</th>\n",
       "      <th>Rating</th>\n",
       "      <th>Names</th>\n",
       "      <th>Price</th>\n",
       "      <th>RAM (GB)</th>\n",
       "    </tr>\n",
       "  </thead>\n",
       "  <tbody>\n",
       "  </tbody>\n",
       "</table>\n",
       "</div>"
      ],
      "text/plain": [
       "Empty DataFrame\n",
       "Columns: [Covered in Warranty, Processor Variant, Finger Print Sensor, MS Office Provided, Weight, Processor Generation, Screen Resolution, Suitable For, Backlit Keyboard, Touchscreen, Processor Name, RAM Type, Screen Type, Domestic Warranty, Series, Operating System, Model Number, Screen Size, USB Port, SSD, Processor Brand, Storage Type, Type, SSD Capacity, Warranty Summary, Model Name, RAM, Graphic Processor, Dimensions, OS Architecture, Face Recognition, Dedicated Graphic Memory Type, Dedicated Graphic Memory Capacity, Expandable Memory, Expandable SSD Capacity, Supported Operating System, Number of Cores, RAM Frequency, Chipset, Included Software, System Architecture, Other Accessories, HDD Capacity, Rating, Names, Price, RAM (GB)]\n",
       "Index: []"
      ]
     },
     "execution_count": 9525,
     "metadata": {},
     "output_type": "execute_result"
    }
   ],
   "source": [
    "df.loc[df['Number of Cores']==np.nan]"
   ]
  },
  {
   "cell_type": "code",
   "execution_count": 9526,
   "id": "c3156135-b849-4f6a-a7a9-6df540675895",
   "metadata": {},
   "outputs": [
    {
     "data": {
      "text/plain": [
       "array(['Core i3', 'Core i5', 'MT8183', 'Celeron Dual Core', 'Core i9',\n",
       "       'Snapdragon X Plus', 'Ryzen 3 Quad Core', 'Core Ultra 5',\n",
       "       'Snapdragon X Elite', 'Ryzen 7 Octa Core', 'Ryzen 5 Hexa Core',\n",
       "       'Ryzen 5 Quad Core', 'Core i7', 'Athlon Dual Core', 'M3',\n",
       "       'Ryzen 5 Dual Core', 'M2', 'Core Ultra 7', 'MediaTek MT8788',\n",
       "       'Core 5', 'Pentium Gold', 'M1', 'Core 7', 'Dual Core',\n",
       "       'Ryzen 3 Dual Core', 'Core Ultra 9', 'Celeron Quad Core', 'M3 Pro',\n",
       "       'M3 Max', 'Ryzen AI 9 12 Core', 'M4 Max', 'M4 Pro', 'M4',\n",
       "       'AMD Ryzen Z1 Extreme', 'Pentium Quad Core'], dtype=object)"
      ]
     },
     "execution_count": 9526,
     "metadata": {},
     "output_type": "execute_result"
    }
   ],
   "source": [
    "df['Processor Name'].unique()"
   ]
  },
  {
   "cell_type": "code",
   "execution_count": 9527,
   "id": "27e384e4-8b1e-4872-9a39-d94b98eca314",
   "metadata": {},
   "outputs": [],
   "source": [
    "def extract_core(x):\n",
    "    x = str(x).lower()  \n",
    "    if 'hexa' in x:\n",
    "        return 6\n",
    "    elif 'octa' in x:\n",
    "        return 8\n",
    "    elif 'quad' in x:\n",
    "        return 4\n",
    "    elif 'dual' in x:\n",
    "        return 2\n",
    "    elif 'z1' in x:\n",
    "        return 10\n",
    "    elif 'ai 9' in x:\n",
    "        return 12\n",
    "    else:\n",
    "        return 0"
   ]
  },
  {
   "cell_type": "code",
   "execution_count": 9528,
   "id": "49d7a7e9-4792-4790-aa7d-66b0c849bae6",
   "metadata": {},
   "outputs": [],
   "source": [
    "df[df['Processor Brand'] == 'AMD'][['Number of Cores', 'Processor Name']]\n",
    "df['New_core'] = df['Processor Name'].apply(extract_core)\n"
   ]
  },
  {
   "cell_type": "code",
   "execution_count": 9529,
   "id": "72c4f6cf-f46b-44f1-acbe-675a8c76988b",
   "metadata": {},
   "outputs": [
    {
     "data": {
      "text/plain": [
       "New_core\n",
       "0     378\n",
       "4      50\n",
       "2      44\n",
       "6      41\n",
       "8      33\n",
       "12      1\n",
       "10      1\n",
       "Name: count, dtype: int64"
      ]
     },
     "execution_count": 9529,
     "metadata": {},
     "output_type": "execute_result"
    }
   ],
   "source": [
    "df['New_core'].value_counts()"
   ]
  },
  {
   "cell_type": "code",
   "execution_count": 9530,
   "id": "385c1869-fdc9-499a-99cc-5b93e98c86c2",
   "metadata": {},
   "outputs": [
    {
     "data": {
      "text/html": [
       "<div>\n",
       "<style scoped>\n",
       "    .dataframe tbody tr th:only-of-type {\n",
       "        vertical-align: middle;\n",
       "    }\n",
       "\n",
       "    .dataframe tbody tr th {\n",
       "        vertical-align: top;\n",
       "    }\n",
       "\n",
       "    .dataframe thead th {\n",
       "        text-align: right;\n",
       "    }\n",
       "</style>\n",
       "<table border=\"1\" class=\"dataframe\">\n",
       "  <thead>\n",
       "    <tr style=\"text-align: right;\">\n",
       "      <th></th>\n",
       "      <th>Number of Cores</th>\n",
       "      <th>New_core</th>\n",
       "    </tr>\n",
       "  </thead>\n",
       "  <tbody>\n",
       "    <tr>\n",
       "      <th>5</th>\n",
       "      <td>NaN</td>\n",
       "      <td>2</td>\n",
       "    </tr>\n",
       "    <tr>\n",
       "      <th>15</th>\n",
       "      <td>NaN</td>\n",
       "      <td>4</td>\n",
       "    </tr>\n",
       "    <tr>\n",
       "      <th>18</th>\n",
       "      <td>NaN</td>\n",
       "      <td>4</td>\n",
       "    </tr>\n",
       "    <tr>\n",
       "      <th>23</th>\n",
       "      <td>NaN</td>\n",
       "      <td>4</td>\n",
       "    </tr>\n",
       "    <tr>\n",
       "      <th>35</th>\n",
       "      <td>NaN</td>\n",
       "      <td>6</td>\n",
       "    </tr>\n",
       "    <tr>\n",
       "      <th>...</th>\n",
       "      <td>...</td>\n",
       "      <td>...</td>\n",
       "    </tr>\n",
       "    <tr>\n",
       "      <th>895</th>\n",
       "      <td>NaN</td>\n",
       "      <td>8</td>\n",
       "    </tr>\n",
       "    <tr>\n",
       "      <th>898</th>\n",
       "      <td>NaN</td>\n",
       "      <td>6</td>\n",
       "    </tr>\n",
       "    <tr>\n",
       "      <th>924</th>\n",
       "      <td>NaN</td>\n",
       "      <td>2</td>\n",
       "    </tr>\n",
       "    <tr>\n",
       "      <th>925</th>\n",
       "      <td>NaN</td>\n",
       "      <td>2</td>\n",
       "    </tr>\n",
       "    <tr>\n",
       "      <th>941</th>\n",
       "      <td>NaN</td>\n",
       "      <td>8</td>\n",
       "    </tr>\n",
       "  </tbody>\n",
       "</table>\n",
       "<p>100 rows × 2 columns</p>\n",
       "</div>"
      ],
      "text/plain": [
       "     Number of Cores  New_core\n",
       "5                NaN         2\n",
       "15               NaN         4\n",
       "18               NaN         4\n",
       "23               NaN         4\n",
       "35               NaN         6\n",
       "..               ...       ...\n",
       "895              NaN         8\n",
       "898              NaN         6\n",
       "924              NaN         2\n",
       "925              NaN         2\n",
       "941              NaN         8\n",
       "\n",
       "[100 rows x 2 columns]"
      ]
     },
     "execution_count": 9530,
     "metadata": {},
     "output_type": "execute_result"
    }
   ],
   "source": [
    "df[(~(df['New_core']==df['Number of Cores'])) &(df['New_core']!=0)][['Number of Cores','New_core']]"
   ]
  },
  {
   "cell_type": "code",
   "execution_count": 9531,
   "id": "00f9fa47-721e-4eb1-bad9-20f6c3409fbe",
   "metadata": {},
   "outputs": [],
   "source": [
    "cores=df.loc[(~(df['New_core']==df['Number of Cores'])) &(df['New_core']!=0)]['New_core'].values\n"
   ]
  },
  {
   "cell_type": "code",
   "execution_count": 9532,
   "id": "a7317c75-9359-426e-b0d7-5425c70b16d1",
   "metadata": {},
   "outputs": [],
   "source": [
    "df.loc[(df['New_core'] != df['Number of Cores']) & (df['New_core'] != 0), 'Number of Cores'] = cores\n"
   ]
  },
  {
   "cell_type": "code",
   "execution_count": 9533,
   "id": "35ac66c2-e4c0-43b0-8f11-8595ae559579",
   "metadata": {},
   "outputs": [
    {
     "data": {
      "text/plain": [
       "259"
      ]
     },
     "execution_count": 9533,
     "metadata": {},
     "output_type": "execute_result"
    }
   ],
   "source": [
    "df['Number of Cores'].isna().sum() #replaced sucessfully"
   ]
  },
  {
   "cell_type": "code",
   "execution_count": 9534,
   "id": "6093a8e6-8284-484e-b106-452d453f609c",
   "metadata": {},
   "outputs": [],
   "source": [
    "core_mean=df['Number of Cores'].median()\n",
    "df['Number of Cores'].fillna(value=core_mean,inplace=True)"
   ]
  },
  {
   "cell_type": "code",
   "execution_count": 9535,
   "id": "90bf1b7b-9cc7-462c-9a11-443f53a6de37",
   "metadata": {},
   "outputs": [],
   "source": [
    "df['Number of Cores']=df['Number of Cores'].astype(int)"
   ]
  },
  {
   "cell_type": "code",
   "execution_count": 9536,
   "id": "2d5753bb-dd1d-4aac-9640-c5dfa58f5d52",
   "metadata": {},
   "outputs": [],
   "source": [
    "df.drop(columns=['New_core'],axis=1,inplace=True)"
   ]
  },
  {
   "cell_type": "code",
   "execution_count": null,
   "id": "873e42fa-0a35-432c-81e1-d5f74452e8a3",
   "metadata": {},
   "outputs": [],
   "source": []
  },
  {
   "cell_type": "markdown",
   "id": "93f8c122-4d6a-4fba-9fd0-0376400f8923",
   "metadata": {},
   "source": [
    "#### _'MS Office Provided'_"
   ]
  },
  {
   "cell_type": "code",
   "execution_count": 9538,
   "id": "d6c5b557-50ac-43d4-a224-0f75af2cd41f",
   "metadata": {},
   "outputs": [
    {
     "data": {
      "text/plain": [
       "MS Office Provided\n",
       "Yes    296\n",
       "No     252\n",
       "Name: count, dtype: int64"
      ]
     },
     "execution_count": 9538,
     "metadata": {},
     "output_type": "execute_result"
    }
   ],
   "source": [
    "df['MS Office Provided'].value_counts()"
   ]
  },
  {
   "cell_type": "markdown",
   "id": "6dc5808e-b63b-4ab6-9005-24e285221759",
   "metadata": {},
   "source": [
    "##### Filled Yes to Apple products bcoz they got their own 🙃"
   ]
  },
  {
   "cell_type": "code",
   "execution_count": 9540,
   "id": "cd503c52-fdd2-4ea7-b843-800f947b3b94",
   "metadata": {},
   "outputs": [],
   "source": [
    "\n",
    "df.loc[df['Processor Brand'] == 'Apple', 'MS Office Provided'] = df.loc[df['Processor Brand'] == 'Apple', 'MS Office Provided'].fillna(value='Yes',inplace=True)\n",
    "df[df['Processor Brand']=='Apple']['MS Office Provided'].fillna(value='Yes',inplace=True);\n"
   ]
  },
  {
   "cell_type": "code",
   "execution_count": 9541,
   "id": "8858d315-a7d8-401c-82fc-ea8dd539a9d4",
   "metadata": {},
   "outputs": [],
   "source": [
    "df['MS Office Provided'].fillna(value='Yes',inplace=True);"
   ]
  },
  {
   "cell_type": "code",
   "execution_count": 9542,
   "id": "8ae939ee-c67e-473d-bdd5-c0c08edec454",
   "metadata": {},
   "outputs": [],
   "source": [
    "df['MS Office Provided']=pd.get_dummies(df['MS Office Provided'],drop_first='No').astype(int)"
   ]
  },
  {
   "cell_type": "markdown",
   "id": "5968277c-3c17-4dcb-991e-6d7db5ce29f8",
   "metadata": {},
   "source": [
    "#### _RAM Type_"
   ]
  },
  {
   "cell_type": "code",
   "execution_count": 9544,
   "id": "c6090b4c-49f0-435b-aa65-f6919c83f3ca",
   "metadata": {},
   "outputs": [
    {
     "data": {
      "text/plain": [
       "7"
      ]
     },
     "execution_count": 9544,
     "metadata": {},
     "output_type": "execute_result"
    }
   ],
   "source": [
    "len(df['RAM Type'].unique())"
   ]
  },
  {
   "cell_type": "code",
   "execution_count": 9545,
   "id": "799f60a2-91fd-4116-b0f3-0f2776031aba",
   "metadata": {},
   "outputs": [
    {
     "data": {
      "text/plain": [
       "1"
      ]
     },
     "execution_count": 9545,
     "metadata": {},
     "output_type": "execute_result"
    }
   ],
   "source": [
    "Ranking=[['DDR4','LPDDR4','LPDDR4X','DDR5','LPDDR5', 'LPDDR5X','Unified Memory']]\n",
    "len(Ranking ) "
   ]
  },
  {
   "cell_type": "code",
   "execution_count": 9546,
   "id": "dde3eb16-7e83-4f1d-9cdf-f8b06652fd12",
   "metadata": {},
   "outputs": [],
   "source": [
    "df['RAM Type Rank']=OrdinalEncoder(categories=Ranking).fit_transform(df[['RAM Type']]).astype(int)"
   ]
  },
  {
   "cell_type": "markdown",
   "id": "c0ee6c9f-dc4c-4dcd-8a40-90fabb934660",
   "metadata": {},
   "source": [
    "#### _Backlit Keyboard_"
   ]
  },
  {
   "cell_type": "code",
   "execution_count": 9548,
   "id": "3bbf85b9-5b31-4546-94ec-f74dd09a0b61",
   "metadata": {},
   "outputs": [
    {
     "data": {
      "text/plain": [
       "array(['No', 'Yes', nan], dtype=object)"
      ]
     },
     "execution_count": 9548,
     "metadata": {},
     "output_type": "execute_result"
    }
   ],
   "source": [
    "df['Backlit Keyboard'].unique()"
   ]
  },
  {
   "cell_type": "code",
   "execution_count": 9549,
   "id": "dfa9744b-3796-44b0-ad0d-8d07ce16ab07",
   "metadata": {},
   "outputs": [],
   "source": [
    "df['Backlit Keyboard'].fillna(value='No',inplace=True)"
   ]
  },
  {
   "cell_type": "code",
   "execution_count": 9550,
   "id": "606be6ee-519e-4918-9b0f-c29302ad2e8d",
   "metadata": {},
   "outputs": [],
   "source": [
    "df['Backlit Keyboard']=pd.get_dummies(df['Backlit Keyboard'],drop_first='No').astype(int)"
   ]
  },
  {
   "cell_type": "code",
   "execution_count": 9551,
   "id": "04a4be15-e312-4661-aada-f03619a53f71",
   "metadata": {},
   "outputs": [
    {
     "data": {
      "text/plain": [
       "array([0, 1])"
      ]
     },
     "execution_count": 9551,
     "metadata": {},
     "output_type": "execute_result"
    }
   ],
   "source": [
    "df['Backlit Keyboard'].unique()"
   ]
  },
  {
   "cell_type": "markdown",
   "id": "99b6f0f4-9703-4498-aa99-1c2e7152a928",
   "metadata": {},
   "source": [
    "#### _Touchscreen'_"
   ]
  },
  {
   "cell_type": "code",
   "execution_count": 9553,
   "id": "03903ce0-7649-4115-ba9c-598f74813dda",
   "metadata": {},
   "outputs": [],
   "source": [
    "df['Touchscreen']=pd.get_dummies(df['Touchscreen'],drop_first='No').astype(int)"
   ]
  },
  {
   "cell_type": "code",
   "execution_count": null,
   "id": "173509e9-252d-4167-a15a-20df33af8dbb",
   "metadata": {},
   "outputs": [],
   "source": []
  },
  {
   "cell_type": "markdown",
   "id": "72f84d84-0a00-4fce-8a52-e45b19efb83d",
   "metadata": {},
   "source": [
    "#### _Domestic Warranty_"
   ]
  },
  {
   "cell_type": "code",
   "execution_count": 9555,
   "id": "38070b58-8d1f-4c1e-8182-76a183e2c94d",
   "metadata": {},
   "outputs": [],
   "source": [
    "df['Domestic Warranty'].fillna(value='0',inplace=True)\n",
    "df['Domestic Warranty'].replace(['12 Months'],['1 Year'],inplace=True)"
   ]
  },
  {
   "cell_type": "code",
   "execution_count": 9556,
   "id": "74c67405-cd60-4d89-bbb9-8b0d89e1acae",
   "metadata": {},
   "outputs": [],
   "source": [
    "df['Domestic Warranty_in_year']=df['Domestic Warranty'].apply(lambda x:x.split(' ')[0]).astype(int)"
   ]
  },
  {
   "cell_type": "code",
   "execution_count": 9557,
   "id": "464c813c-a1f0-4528-a7df-7b43a31cb6e2",
   "metadata": {},
   "outputs": [
    {
     "data": {
      "text/plain": [
       "291"
      ]
     },
     "execution_count": 9557,
     "metadata": {},
     "output_type": "execute_result"
    }
   ],
   "source": [
    "len(df[df['Domestic Warranty_in_year']==0])"
   ]
  },
  {
   "cell_type": "code",
   "execution_count": null,
   "id": "a37ba882-8e4c-46a1-9a19-a716a4c516ef",
   "metadata": {},
   "outputs": [],
   "source": []
  },
  {
   "cell_type": "markdown",
   "id": "806d61d3-3f3a-4a5f-808f-364775892de2",
   "metadata": {},
   "source": [
    "#### _SSD_"
   ]
  },
  {
   "cell_type": "code",
   "execution_count": 9559,
   "id": "65b8e46a-a982-4795-be54-3721cb0466c2",
   "metadata": {},
   "outputs": [
    {
     "data": {
      "text/plain": [
       "array(['256 GB', '512 GB', nan, '1 TB', '2 TB', '128 GB'], dtype=object)"
      ]
     },
     "execution_count": 9559,
     "metadata": {},
     "output_type": "execute_result"
    }
   ],
   "source": [
    "df['SSD Capacity'].unique()"
   ]
  },
  {
   "cell_type": "code",
   "execution_count": 9560,
   "id": "c5b4e17d-6049-4206-bc94-cec7f1607e06",
   "metadata": {},
   "outputs": [],
   "source": [
    "df['SSD Capacity'].replace(['1 TB','2 TB',np.nan],['1000 GB','2000 GB','0 GB'],inplace=True)"
   ]
  },
  {
   "cell_type": "code",
   "execution_count": 9561,
   "id": "bf00ec96-d00c-4f10-911c-91d04272577f",
   "metadata": {},
   "outputs": [],
   "source": [
    "df['SSD (GB)']=df['SSD Capacity'].astype(str).apply(lambda x : x.split(' ')[0]).astype(int)"
   ]
  },
  {
   "cell_type": "markdown",
   "id": "c75f61a0-1f12-4481-8f26-57499afa51cc",
   "metadata": {},
   "source": [
    "#### _HDD_"
   ]
  },
  {
   "cell_type": "code",
   "execution_count": 9563,
   "id": "fa1cb2b2-91ba-4270-a806-6ef43b63acdb",
   "metadata": {},
   "outputs": [
    {
     "data": {
      "text/plain": [
       "array([nan, '1 TB', '500 GB'], dtype=object)"
      ]
     },
     "execution_count": 9563,
     "metadata": {},
     "output_type": "execute_result"
    }
   ],
   "source": [
    "df['HDD Capacity'].unique()"
   ]
  },
  {
   "cell_type": "code",
   "execution_count": 9564,
   "id": "1d15f87b-ab43-4a9b-9556-eefff165baf1",
   "metadata": {},
   "outputs": [],
   "source": [
    "df['HDD Capacity'].replace(['1 TB',np.nan],['1000 GB','0 GB'],inplace=True)"
   ]
  },
  {
   "cell_type": "code",
   "execution_count": 9565,
   "id": "802a78fc-1136-48b0-ab64-10a344dc93af",
   "metadata": {},
   "outputs": [],
   "source": [
    "df['HDD (GB)']=df['HDD Capacity'].astype(str).apply(lambda x : x.split(' ')[0]).astype(int)"
   ]
  },
  {
   "cell_type": "markdown",
   "id": "3171dc63-eec1-4f58-af72-ce31c2ace52d",
   "metadata": {},
   "source": [
    "#### _Expandable Memory_"
   ]
  },
  {
   "cell_type": "code",
   "execution_count": 9567,
   "id": "8c5dbce0-5d5b-46d0-bec4-22351347c99c",
   "metadata": {},
   "outputs": [
    {
     "data": {
      "text/plain": [
       "Expandable Memory\n",
       "16 GB                                        21\n",
       "32 GB                                        12\n",
       "32                                           11\n",
       "16                                            8\n",
       "Upto 16 GB                                    7\n",
       "Upto 32 GB                                    6\n",
       "64 GB                                         6\n",
       "Upto 64 GB                                    5\n",
       "16GB                                          4\n",
       "8                                             4\n",
       "8 GB                                          3\n",
       "Upto 12 GB                                    2\n",
       "32GB                                          2\n",
       "1tb                                           1\n",
       "Upto 1 TB                                     1\n",
       "Yes                                           1\n",
       "12                                            1\n",
       "Upto 24 GB                                    1\n",
       "up to 512 GB                                  1\n",
       "Non Upgradable                                1\n",
       "No                                            1\n",
       "40                                            1\n",
       "Up to 64 GB                                   1\n",
       "128 GB                                        1\n",
       "64GB                                          1\n",
       "dual-channel capable upgradable upto 40GB     1\n",
       "Name: count, dtype: int64"
      ]
     },
     "execution_count": 9567,
     "metadata": {},
     "output_type": "execute_result"
    }
   ],
   "source": [
    "df['Expandable Memory'].value_counts()"
   ]
  },
  {
   "cell_type": "code",
   "execution_count": 9568,
   "id": "3a46f701-1842-4efd-9fdf-a36fe376d5ec",
   "metadata": {},
   "outputs": [
    {
     "data": {
      "text/plain": [
       "165    HP 15s AMD Ryzen 3 Quad Core 5300U - (8 GB/512...\n",
       "Name: Names, dtype: object"
      ]
     },
     "execution_count": 9568,
     "metadata": {},
     "output_type": "execute_result"
    }
   ],
   "source": [
    "df[df['Expandable Memory']=='Yes']['Names']"
   ]
  },
  {
   "cell_type": "code",
   "execution_count": 9569,
   "id": "904cf9f6-00f9-417e-8d2c-aba4adbbfdd1",
   "metadata": {},
   "outputs": [],
   "source": [
    "df['Expandable Memory'].replace(['Non Upgradable','No','Yes','Upto 1 TB','1tb'],['0 GB','0 GB','8 GB','1000 GB','1000 GB'],inplace=True)"
   ]
  },
  {
   "cell_type": "code",
   "execution_count": 9570,
   "id": "cd303b93-ab50-49b8-a0da-eefd65d62010",
   "metadata": {},
   "outputs": [],
   "source": [
    "x=df['Expandable Memory'].astype(str).apply(lambda x: (''.join(i  if i.isdigit() else ' ' for i in x).split()))"
   ]
  },
  {
   "cell_type": "code",
   "execution_count": 9571,
   "id": "6dc120a7-b3a2-4c58-97d9-c5ef55caa574",
   "metadata": {},
   "outputs": [],
   "source": [
    "df['Expandable Memory (GB)']=[i[0] if len(i)>=1 else np.nan for i in x]"
   ]
  },
  {
   "cell_type": "code",
   "execution_count": 9572,
   "id": "e959c40f-db78-4bc1-a166-cb7f1a39a289",
   "metadata": {},
   "outputs": [],
   "source": [
    "df['Expandable Memory (GB)'].fillna(value=0,inplace=True)"
   ]
  },
  {
   "cell_type": "code",
   "execution_count": 9573,
   "id": "23bb449c-b569-460a-a4ce-80eaeb2181c8",
   "metadata": {},
   "outputs": [],
   "source": [
    "df['Expandable Memory (GB)']=df['Expandable Memory (GB)'].astype(int)"
   ]
  },
  {
   "cell_type": "code",
   "execution_count": 9574,
   "id": "1ba6decc-f336-4c31-afb2-56b801dfa0e1",
   "metadata": {},
   "outputs": [
    {
     "data": {
      "text/plain": [
       "Expandable Memory (GB)\n",
       "0       446\n",
       "16       40\n",
       "32       31\n",
       "64       13\n",
       "8         8\n",
       "12        3\n",
       "1000      2\n",
       "40        2\n",
       "24        1\n",
       "512       1\n",
       "128       1\n",
       "Name: count, dtype: int64"
      ]
     },
     "execution_count": 9574,
     "metadata": {},
     "output_type": "execute_result"
    }
   ],
   "source": [
    "df['Expandable Memory (GB)'].value_counts()"
   ]
  },
  {
   "cell_type": "markdown",
   "id": "d346c99b-b9c3-4895-aeae-17bb9e623d53",
   "metadata": {},
   "source": [
    "#### _BRAND NAMES_"
   ]
  },
  {
   "cell_type": "code",
   "execution_count": 9576,
   "id": "5a0463ac-d917-4650-9829-fbdc6cc32944",
   "metadata": {},
   "outputs": [
    {
     "data": {
      "text/plain": [
       "Names\n",
       "HP           116\n",
       "Lenovo       106\n",
       "ASUS          91\n",
       "Acer          70\n",
       "MSI           48\n",
       "DELL          41\n",
       "Apple         23\n",
       "Infinix       13\n",
       "MICROSOFT     10\n",
       "SAMSUNG        8\n",
       "CHUWI          4\n",
       "Colorful       3\n",
       "Ultimus        3\n",
       "Thomson        2\n",
       "ZEBRONICS      2\n",
       "WINGS          2\n",
       "Avita          2\n",
       "GIGABYTE       1\n",
       "Primebook      1\n",
       "FUTOPIA        1\n",
       "AXL            1\n",
       "Name: count, dtype: int64"
      ]
     },
     "execution_count": 9576,
     "metadata": {},
     "output_type": "execute_result"
    }
   ],
   "source": [
    "df['Names'].apply(lambda x:x.split(' ')[0]).value_counts()"
   ]
  },
  {
   "cell_type": "code",
   "execution_count": 9577,
   "id": "a702d2a4-2445-4759-96a2-03004c5cc43a",
   "metadata": {},
   "outputs": [],
   "source": [
    "df['BRAND']=df['Names'].apply(lambda x:x.split(' ')[0])"
   ]
  },
  {
   "cell_type": "markdown",
   "id": "bc087a34-2c2a-4991-830e-11e32d3cb1cd",
   "metadata": {},
   "source": [
    "##### Brands that have less products/Laptops are considered under \"Others\""
   ]
  },
  {
   "cell_type": "code",
   "execution_count": 9579,
   "id": "50f1e628-53e5-46bb-a6d0-74f40a96eaf0",
   "metadata": {},
   "outputs": [],
   "source": [
    "other=df.groupby(['BRAND']).agg(count=('BRAND','count')).sort_values(by='count',ascending=True).reset_index().head(11)\n",
    "other=list(other.BRAND)\n"
   ]
  },
  {
   "cell_type": "code",
   "execution_count": 9580,
   "id": "263b20f7-eeae-478f-9ce6-8ca4ad9e32de",
   "metadata": {},
   "outputs": [],
   "source": [
    "df['Brand_Names'] = df['Names'].apply(lambda x: 'others' if x.split(' ')[0] in other else x.split(' ')[0])\n"
   ]
  },
  {
   "cell_type": "code",
   "execution_count": 9581,
   "id": "175afcc7-7ca9-4d2e-bdb7-63ce7d1509a3",
   "metadata": {},
   "outputs": [
    {
     "data": {
      "text/plain": [
       "array(['Acer', 'HP', 'MSI', 'Lenovo', 'ASUS', 'others', 'DELL',\n",
       "       'MICROSOFT', 'Infinix', 'Apple', 'SAMSUNG'], dtype=object)"
      ]
     },
     "execution_count": 9581,
     "metadata": {},
     "output_type": "execute_result"
    }
   ],
   "source": [
    "df['Brand_Names'].unique()"
   ]
  },
  {
   "cell_type": "code",
   "execution_count": 9582,
   "id": "1dd078b3-0a0a-4649-a86d-46927ea99c90",
   "metadata": {},
   "outputs": [],
   "source": [
    "# pd.get_dummies(df['BRAND']).astype(int)\n",
    "dummies = pd.get_dummies(df['Brand_Names']).astype(int)\n",
    "df = df.join(dummies)\n"
   ]
  },
  {
   "cell_type": "markdown",
   "id": "744c43b3-2499-4875-abb9-35ff0cb7b07f",
   "metadata": {},
   "source": [
    "#### _'Screen Size_"
   ]
  },
  {
   "cell_type": "code",
   "execution_count": 9584,
   "id": "cb7c1ad7-e5e7-4e7c-979b-24a66eea2ea5",
   "metadata": {},
   "outputs": [],
   "source": [
    "df['Screen Size (mm)']=df['Screen Size'].apply(lambda x :x.split(' ')[0]).astype(float)"
   ]
  },
  {
   "cell_type": "code",
   "execution_count": 9585,
   "id": "a9cc5d93-d759-41ed-81aa-5d724bd6a037",
   "metadata": {},
   "outputs": [
    {
     "data": {
      "text/plain": [
       "391    35.81\n",
       "Name: Screen Size (mm), dtype: float64"
      ]
     },
     "execution_count": 9585,
     "metadata": {},
     "output_type": "execute_result"
    }
   ],
   "source": [
    "df['Screen Size (mm)'].sample()"
   ]
  },
  {
   "cell_type": "markdown",
   "id": "b90a0ca6-e937-4fa7-bf84-2f93ad67ab90",
   "metadata": {},
   "source": [
    "#### _Storage_"
   ]
  },
  {
   "cell_type": "code",
   "execution_count": 9587,
   "id": "f8160255-4ff5-4713-b69f-3853badadc0e",
   "metadata": {},
   "outputs": [],
   "source": [
    "Storage=pd.get_dummies(df['Storage Type'],prefix='drive').astype(int)"
   ]
  },
  {
   "cell_type": "code",
   "execution_count": 9588,
   "id": "25c16b61-0885-4cf1-b62e-0a2edc0bf8b7",
   "metadata": {},
   "outputs": [],
   "source": [
    "df=df.join(Storage)"
   ]
  },
  {
   "cell_type": "markdown",
   "id": "af05fad1-3c38-4ad0-9657-c5fe2af974dd",
   "metadata": {},
   "source": [
    "#### _Processor Generation_"
   ]
  },
  {
   "cell_type": "code",
   "execution_count": 9590,
   "id": "8f5f846e-e665-485a-b8f4-f7b4c614eedd",
   "metadata": {},
   "outputs": [],
   "source": [
    "pg=df['Processor Generation'].astype(str).apply(lambda x : ''.join(i if i.isdigit() else ' ' for i in x).split())"
   ]
  },
  {
   "cell_type": "code",
   "execution_count": 9591,
   "id": "0a46f82e-bda9-45bd-9ada-435daec47e3d",
   "metadata": {},
   "outputs": [],
   "source": [
    "df['Processor Generation_intel']=[i[0] if len(i)>=1 else 0 for i in pg]"
   ]
  },
  {
   "cell_type": "code",
   "execution_count": 9592,
   "id": "b6e7667b-0456-4944-9325-7053079ca2c2",
   "metadata": {},
   "outputs": [],
   "source": [
    "df['Processor Generation_intel']=df['Processor Generation_intel'].astype(int)"
   ]
  },
  {
   "cell_type": "code",
   "execution_count": 9593,
   "id": "6e776ad0-3dcd-43e4-9898-33fa380235cf",
   "metadata": {
    "scrolled": true
   },
   "outputs": [
    {
     "data": {
      "text/plain": [
       "0       0\n",
       "1      12\n",
       "2       0\n",
       "3      12\n",
       "4      12\n",
       "       ..\n",
       "950    12\n",
       "951    12\n",
       "955    12\n",
       "958     0\n",
       "959    13\n",
       "Name: Processor Generation_intel, Length: 548, dtype: int32"
      ]
     },
     "execution_count": 9593,
     "metadata": {},
     "output_type": "execute_result"
    }
   ],
   "source": [
    "df['Processor Generation_intel']"
   ]
  },
  {
   "cell_type": "code",
   "execution_count": null,
   "id": "58a74bed-eda2-4739-825e-bf9430137bd6",
   "metadata": {},
   "outputs": [],
   "source": []
  },
  {
   "cell_type": "markdown",
   "id": "db3c3e4b-cfe3-4fb8-b85a-0eaa925c5899",
   "metadata": {},
   "source": [
    "#### _Dedicated Graphic Memory Capacity_"
   ]
  },
  {
   "cell_type": "code",
   "execution_count": 9595,
   "id": "c4e987b0-9ae9-44f8-b2f0-660759d36db5",
   "metadata": {},
   "outputs": [
    {
     "data": {
      "text/plain": [
       "901    MSI\n",
       "Name: BRAND, dtype: object"
      ]
     },
     "execution_count": 9595,
     "metadata": {},
     "output_type": "execute_result"
    }
   ],
   "source": [
    "df[df['Dedicated Graphic Memory Capacity']=='12 GB']['BRAND']"
   ]
  },
  {
   "cell_type": "code",
   "execution_count": 9596,
   "id": "7b452c72-69eb-4cc0-8f89-27999253fe5e",
   "metadata": {},
   "outputs": [
    {
     "data": {
      "text/plain": [
       "array([nan, '4 GB', '8 GB', '6 GB', '1 GB', '2 GB', '512 MB', '128 MB',\n",
       "       '12 GB'], dtype=object)"
      ]
     },
     "execution_count": 9596,
     "metadata": {},
     "output_type": "execute_result"
    }
   ],
   "source": [
    "df['Dedicated Graphic Memory Capacity'].unique()"
   ]
  },
  {
   "cell_type": "code",
   "execution_count": 9597,
   "id": "21eb0b46-a24f-4725-90da-d8bb4c718e0f",
   "metadata": {},
   "outputs": [],
   "source": [
    "df['Dedicated Graphic Memory Capacity'].replace(['512 MB', '128 MB',np.nan],['0.512 GB','0.128 GB','0 GB'],inplace=True)"
   ]
  },
  {
   "cell_type": "code",
   "execution_count": 9598,
   "id": "79b1af61-5532-4177-a0aa-a17e99130813",
   "metadata": {},
   "outputs": [],
   "source": [
    "df['Dedicated Graphic Memory Capacity (GB)']=df['Dedicated Graphic Memory Capacity'].apply(lambda x : x.split(' ')[0]).astype(float)"
   ]
  },
  {
   "cell_type": "markdown",
   "id": "c18c475e-0641-4fd4-bfdd-585b0b6df5da",
   "metadata": {},
   "source": [
    "#### _Processor Brand_"
   ]
  },
  {
   "cell_type": "code",
   "execution_count": 9600,
   "id": "5e87a9bb-d06d-4dfa-95da-f281c57d7e69",
   "metadata": {},
   "outputs": [],
   "source": [
    "Processor=pd.get_dummies(df['Processor Brand'],prefix='Processor').astype(int)"
   ]
  },
  {
   "cell_type": "code",
   "execution_count": 9601,
   "id": "3fcba605-431e-46b2-8cb5-97cef6873255",
   "metadata": {},
   "outputs": [
    {
     "data": {
      "text/plain": [
       "Processor Brand\n",
       "Intel       372\n",
       "AMD         142\n",
       "Apple        23\n",
       "Qualcomm      9\n",
       "MediaTek      2\n",
       "Name: count, dtype: int64"
      ]
     },
     "execution_count": 9601,
     "metadata": {},
     "output_type": "execute_result"
    }
   ],
   "source": [
    "df['Processor Brand'].value_counts()"
   ]
  },
  {
   "cell_type": "code",
   "execution_count": 9602,
   "id": "3a0f4986-2df1-4a69-b6af-a5db1b0bbdfa",
   "metadata": {},
   "outputs": [],
   "source": [
    "df=df.join(Processor)\n"
   ]
  },
  {
   "cell_type": "markdown",
   "id": "2fbd80ef-74e8-49c5-8690-47f2b9bd3c8d",
   "metadata": {},
   "source": [
    "#### _Apple chip_"
   ]
  },
  {
   "cell_type": "code",
   "execution_count": 9604,
   "id": "198ce3d3-a762-4ae0-98d5-adff6d3fa115",
   "metadata": {},
   "outputs": [
    {
     "data": {
      "text/plain": [
       "array(['M3', 'M2', 'M1', 'M3 Pro', 'M3 Max', 'M4 Max', 'M4 Pro', 'M4'],\n",
       "      dtype=object)"
      ]
     },
     "execution_count": 9604,
     "metadata": {},
     "output_type": "execute_result"
    }
   ],
   "source": [
    "df[df['Processor Brand']=='Apple']['Processor Name'].unique()"
   ]
  },
  {
   "cell_type": "code",
   "execution_count": 9605,
   "id": "70c862a9-bde8-4dfe-8bf6-45602be4ec6d",
   "metadata": {},
   "outputs": [],
   "source": [
    "def extractt(x):\n",
    "    number=''.join(i if i.isdigit() else ' ' for i in x)\n",
    "    sep=number.split()\n",
    "    if len(sep)>=2:\n",
    "        return sep[0]+'.'+sep[1]\n",
    "\n",
    "    else:\n",
    "        return sep[0]"
   ]
  },
  {
   "cell_type": "code",
   "execution_count": 9606,
   "id": "6575c0d0-3731-4721-b79e-e5b83f4ea24d",
   "metadata": {
    "scrolled": true
   },
   "outputs": [
    {
     "data": {
      "text/plain": [
       "118    3.00\n",
       "161    2.00\n",
       "358    1.00\n",
       "565    3.00\n",
       "568    3.50\n",
       "575    3.00\n",
       "578    3.50\n",
       "591    3.00\n",
       "638    3.00\n",
       "644    3.00\n",
       "651    3.75\n",
       "654    3.75\n",
       "661    3.50\n",
       "674    3.50\n",
       "681    3.75\n",
       "725    4.75\n",
       "729    4.50\n",
       "731    3.00\n",
       "744    4.00\n",
       "768    4.00\n",
       "774    3.00\n",
       "781    3.00\n",
       "935    3.00\n",
       "Name: Processor Name, dtype: float64"
      ]
     },
     "execution_count": 9606,
     "metadata": {},
     "output_type": "execute_result"
    }
   ],
   "source": [
    "df[df['Processor Brand']=='Apple']['Processor Name'].replace(['M3 Pro','M3 Max','M4 Pro','M4 Max'],['3.5','3.75','4.5','4.75']).apply(extractt).astype(float)"
   ]
  },
  {
   "cell_type": "code",
   "execution_count": 9607,
   "id": "19b61f5b-c976-4fc9-9afd-ecee15eccc3c",
   "metadata": {},
   "outputs": [],
   "source": [
    "df['Apple_chips']=df[df['Processor Brand']=='Apple']['Processor Name'].replace(['M3 Pro','M3 Max','M4 Pro','M4 Max'],['3.5','3.75','4.5','4.75']).apply(extractt).astype(float)"
   ]
  },
  {
   "cell_type": "code",
   "execution_count": 9608,
   "id": "ad693db7-ecb6-4b25-8b90-1ce5803cf18e",
   "metadata": {},
   "outputs": [],
   "source": [
    "df['Apple_chips'].fillna(value=0,inplace=True)"
   ]
  },
  {
   "cell_type": "code",
   "execution_count": null,
   "id": "b1233aee-c1ad-4ba9-a252-611073a66d2d",
   "metadata": {},
   "outputs": [],
   "source": []
  },
  {
   "cell_type": "markdown",
   "id": "cf02c007-0248-4be4-8661-66eb02f76004",
   "metadata": {},
   "source": [
    "#### _Variant processor_"
   ]
  },
  {
   "cell_type": "code",
   "execution_count": 9610,
   "id": "b1ab784b-6177-4bfc-9fa9-00928235b107",
   "metadata": {},
   "outputs": [],
   "source": [
    "c=df['Processor Variant'].astype(str).apply(lambda x : ''.join(i if i.isalpha() else ' ' for i in x).split())"
   ]
  },
  {
   "cell_type": "code",
   "execution_count": 9611,
   "id": "5d004dbb-973a-4979-8ad5-0f80da0bc42e",
   "metadata": {},
   "outputs": [
    {
     "data": {
      "text/plain": [
       "Processor Variant\n",
       "[U]                                                                       215\n",
       "[H]                                                                       125\n",
       "[nan]                                                                      63\n",
       "[G]                                                                        37\n",
       "[N]                                                                        30\n",
       "[HX]                                                                       22\n",
       "[HS]                                                                       19\n",
       "[P]                                                                         8\n",
       "[AMD, R, U]                                                                 4\n",
       "[AMD, R, H]                                                                 3\n",
       "[u]                                                                         2\n",
       "[AMD, Ryzen, U]                                                             2\n",
       "[p]                                                                         1\n",
       "[U, with, year, Warranty]                                                   1\n",
       "[Neo]                                                                       1\n",
       "[I, U]                                                                      1\n",
       "[Core, i, G]                                                                1\n",
       "[AMD, Athlon, Silver, U]                                                    1\n",
       "[th, Generation, Intel, Core, i, U, Processor, MB, Cache, up, to, GHz]      1\n",
       "[Intel, Core, i, U]                                                         1\n",
       "[Upto, GHz]                                                                 1\n",
       "[Core, i]                                                                   1\n",
       "[Apple, M, Chip]                                                            1\n",
       "[]                                                                          1\n",
       "[U, Turbo, Boost, with, Finger, Print]                                      1\n",
       "[MT]                                                                        1\n",
       "[gen]                                                                       1\n",
       "[X, E]                                                                      1\n",
       "[X, P]                                                                      1\n",
       "[Ryzen, U]                                                                  1\n",
       "Name: count, dtype: int64"
      ]
     },
     "execution_count": 9611,
     "metadata": {},
     "output_type": "execute_result"
    }
   ],
   "source": [
    "c.value_counts()"
   ]
  },
  {
   "cell_type": "code",
   "execution_count": 9612,
   "id": "6e103b69-2c81-4614-88fa-e8eb742cdc31",
   "metadata": {},
   "outputs": [],
   "source": [
    "# H-series is for HIGH performance, U-series is Balanced & N-series is Entry level\n",
    "def extract_variant(x):\n",
    "    x = str(x)\n",
    "    if 'U' in x:\n",
    "        return 2\n",
    "    elif 'H'in x:\n",
    "        return 3\n",
    "    elif 'N' in x:\n",
    "        return 1\n",
    "    else:\n",
    "        return 0"
   ]
  },
  {
   "cell_type": "code",
   "execution_count": 9613,
   "id": "675447c0-366a-47e5-ac89-5c777c27b42c",
   "metadata": {},
   "outputs": [
    {
     "data": {
      "text/plain": [
       "Processor Variant\n",
       "2    229\n",
       "3    169\n",
       "0    119\n",
       "1     31\n",
       "Name: count, dtype: int64"
      ]
     },
     "execution_count": 9613,
     "metadata": {},
     "output_type": "execute_result"
    }
   ],
   "source": [
    "c.apply(extract_variant).value_counts()"
   ]
  },
  {
   "cell_type": "code",
   "execution_count": 9614,
   "id": "22495f8a-542d-4601-b0ce-2db314b30de5",
   "metadata": {},
   "outputs": [],
   "source": [
    "df['Processor_variant_new']=c.apply(extract_variant)"
   ]
  },
  {
   "cell_type": "markdown",
   "id": "4bffac2e-75e6-4d3f-8928-f38a7e182f82",
   "metadata": {},
   "source": [
    "#### _Expandable SSD Capacity_"
   ]
  },
  {
   "cell_type": "code",
   "execution_count": 9616,
   "id": "83018323-3bf5-4a42-9c16-f8fd458cb336",
   "metadata": {},
   "outputs": [],
   "source": [
    "df['Expandable SSD Capacity'].fillna(value='0 GB',inplace=True)\n",
    "df['Expandable SSD Capacity (GB)']=df['Expandable SSD Capacity'].astype(str).apply(lambda x: x.split(' ')[0]).replace(['1','2','4','6'],['1000','2000','4000','6000'])"
   ]
  },
  {
   "cell_type": "code",
   "execution_count": 9617,
   "id": "be08fbeb-7708-413c-83c9-cbcfef31fd34",
   "metadata": {},
   "outputs": [],
   "source": [
    "df['Expandable SSD Capacity (GB)']=df['Expandable SSD Capacity (GB)'].astype(int)"
   ]
  },
  {
   "cell_type": "code",
   "execution_count": null,
   "id": "8e14967a-3d08-46a2-bccd-50fbeaa0b14b",
   "metadata": {},
   "outputs": [],
   "source": []
  },
  {
   "cell_type": "markdown",
   "id": "09a9918c-845c-4b9c-bbe5-69863a370819",
   "metadata": {},
   "source": [
    "#### _Graphic Processor Companies_"
   ]
  },
  {
   "cell_type": "code",
   "execution_count": 9619,
   "id": "15b1b0f4-e867-4713-ac25-9be0406bb700",
   "metadata": {},
   "outputs": [],
   "source": [
    "Graphic_card=pd.get_dummies(df['Graphic Processor'].astype(str).apply(lambda x :x.split(' ')[0]),drop_first='NA',prefix='Graphic').astype(int)"
   ]
  },
  {
   "cell_type": "code",
   "execution_count": 9620,
   "id": "46fc32bd-8fdd-4c3e-854c-19163572c7a5",
   "metadata": {},
   "outputs": [],
   "source": [
    "df=df.join(Graphic_card)"
   ]
  },
  {
   "cell_type": "code",
   "execution_count": 9621,
   "id": "83642e67-e76b-409b-975d-8fe4b02a60ef",
   "metadata": {},
   "outputs": [
    {
     "data": {
      "text/html": [
       "<div>\n",
       "<style scoped>\n",
       "    .dataframe tbody tr th:only-of-type {\n",
       "        vertical-align: middle;\n",
       "    }\n",
       "\n",
       "    .dataframe tbody tr th {\n",
       "        vertical-align: top;\n",
       "    }\n",
       "\n",
       "    .dataframe thead th {\n",
       "        text-align: right;\n",
       "    }\n",
       "</style>\n",
       "<table border=\"1\" class=\"dataframe\">\n",
       "  <thead>\n",
       "    <tr style=\"text-align: right;\">\n",
       "      <th></th>\n",
       "      <th>Covered in Warranty</th>\n",
       "      <th>Processor Variant</th>\n",
       "      <th>Finger Print Sensor</th>\n",
       "      <th>MS Office Provided</th>\n",
       "      <th>Weight</th>\n",
       "      <th>Processor Generation</th>\n",
       "      <th>Screen Resolution</th>\n",
       "      <th>Suitable For</th>\n",
       "      <th>Backlit Keyboard</th>\n",
       "      <th>Touchscreen</th>\n",
       "      <th>Processor Name</th>\n",
       "      <th>RAM Type</th>\n",
       "      <th>Screen Type</th>\n",
       "      <th>Domestic Warranty</th>\n",
       "      <th>Series</th>\n",
       "      <th>Operating System</th>\n",
       "      <th>Model Number</th>\n",
       "      <th>Screen Size</th>\n",
       "      <th>USB Port</th>\n",
       "      <th>SSD</th>\n",
       "      <th>Processor Brand</th>\n",
       "      <th>Storage Type</th>\n",
       "      <th>Type</th>\n",
       "      <th>SSD Capacity</th>\n",
       "      <th>Warranty Summary</th>\n",
       "      <th>Model Name</th>\n",
       "      <th>RAM</th>\n",
       "      <th>Graphic Processor</th>\n",
       "      <th>Dimensions</th>\n",
       "      <th>OS Architecture</th>\n",
       "      <th>Face Recognition</th>\n",
       "      <th>Dedicated Graphic Memory Type</th>\n",
       "      <th>Dedicated Graphic Memory Capacity</th>\n",
       "      <th>Expandable Memory</th>\n",
       "      <th>Expandable SSD Capacity</th>\n",
       "      <th>Supported Operating System</th>\n",
       "      <th>Number of Cores</th>\n",
       "      <th>RAM Frequency</th>\n",
       "      <th>Chipset</th>\n",
       "      <th>Included Software</th>\n",
       "      <th>System Architecture</th>\n",
       "      <th>Other Accessories</th>\n",
       "      <th>HDD Capacity</th>\n",
       "      <th>Rating</th>\n",
       "      <th>Names</th>\n",
       "      <th>Price</th>\n",
       "      <th>RAM (GB)</th>\n",
       "      <th>RAM Type Rank</th>\n",
       "      <th>Domestic Warranty_in_year</th>\n",
       "      <th>SSD (GB)</th>\n",
       "      <th>HDD (GB)</th>\n",
       "      <th>Expandable Memory (GB)</th>\n",
       "      <th>BRAND</th>\n",
       "      <th>Brand_Names</th>\n",
       "      <th>ASUS</th>\n",
       "      <th>Acer</th>\n",
       "      <th>Apple</th>\n",
       "      <th>DELL</th>\n",
       "      <th>HP</th>\n",
       "      <th>Infinix</th>\n",
       "      <th>Lenovo</th>\n",
       "      <th>MICROSOFT</th>\n",
       "      <th>MSI</th>\n",
       "      <th>SAMSUNG</th>\n",
       "      <th>others</th>\n",
       "      <th>Screen Size (mm)</th>\n",
       "      <th>drive_HDD</th>\n",
       "      <th>drive_Hybrid</th>\n",
       "      <th>drive_SSD</th>\n",
       "      <th>drive_eMMC</th>\n",
       "      <th>Processor Generation_intel</th>\n",
       "      <th>Dedicated Graphic Memory Capacity (GB)</th>\n",
       "      <th>Processor_AMD</th>\n",
       "      <th>Processor_Apple</th>\n",
       "      <th>Processor_Intel</th>\n",
       "      <th>Processor_MediaTek</th>\n",
       "      <th>Processor_Qualcomm</th>\n",
       "      <th>Apple_chips</th>\n",
       "      <th>Processor_variant_new</th>\n",
       "      <th>Expandable SSD Capacity (GB)</th>\n",
       "      <th>Graphic_Intel</th>\n",
       "      <th>Graphic_MediaTek</th>\n",
       "      <th>Graphic_NA</th>\n",
       "      <th>Graphic_NVIDIA</th>\n",
       "      <th>Graphic_Qualcomm</th>\n",
       "      <th>Graphic_nan</th>\n",
       "    </tr>\n",
       "  </thead>\n",
       "  <tbody>\n",
       "    <tr>\n",
       "      <th>949</th>\n",
       "      <td>Manufacturing Defects</td>\n",
       "      <td>AMD R7-5800H</td>\n",
       "      <td>0</td>\n",
       "      <td>1</td>\n",
       "      <td>2.32 Kg</td>\n",
       "      <td>NaN</td>\n",
       "      <td>1920 x 1080 Pixels</td>\n",
       "      <td>Gaming</td>\n",
       "      <td>1</td>\n",
       "      <td>0</td>\n",
       "      <td>Ryzen 7 Octa Core</td>\n",
       "      <td>DDR4</td>\n",
       "      <td>FHD, IPS, micro-edge, anti-glare, Low Blue Lig...</td>\n",
       "      <td>1 Year</td>\n",
       "      <td>OMEN</td>\n",
       "      <td>Windows 11 Home</td>\n",
       "      <td>16-C0138AX</td>\n",
       "      <td>40.89 cm (16.1 Inch)</td>\n",
       "      <td>1 x SuperSpeed USB Type-C 10Gbps signaling rat...</td>\n",
       "      <td>Yes</td>\n",
       "      <td>AMD</td>\n",
       "      <td>SSD</td>\n",
       "      <td>Gaming Laptop</td>\n",
       "      <td>512 GB</td>\n",
       "      <td>1 Year Onsite Warranty</td>\n",
       "      <td>16-C0138AX</td>\n",
       "      <td>16 GB</td>\n",
       "      <td>NVIDIA GeForce RTX 3050Ti</td>\n",
       "      <td>369 x 245 x 22.5 mm</td>\n",
       "      <td>64 bit</td>\n",
       "      <td>0</td>\n",
       "      <td>GDDR6</td>\n",
       "      <td>4 GB</td>\n",
       "      <td>32</td>\n",
       "      <td>0 GB</td>\n",
       "      <td>Windows 11 Home</td>\n",
       "      <td>8</td>\n",
       "      <td>3200 MHz</td>\n",
       "      <td>NaN</td>\n",
       "      <td>NaN</td>\n",
       "      <td>64</td>\n",
       "      <td>NaN</td>\n",
       "      <td>0 GB</td>\n",
       "      <td>4.3</td>\n",
       "      <td>HP OMEN AMD Ryzen 7 Octa Core AMD R7-5800H - (...</td>\n",
       "      <td>96100</td>\n",
       "      <td>16</td>\n",
       "      <td>0</td>\n",
       "      <td>1</td>\n",
       "      <td>512</td>\n",
       "      <td>0</td>\n",
       "      <td>32</td>\n",
       "      <td>HP</td>\n",
       "      <td>HP</td>\n",
       "      <td>0</td>\n",
       "      <td>0</td>\n",
       "      <td>0</td>\n",
       "      <td>0</td>\n",
       "      <td>1</td>\n",
       "      <td>0</td>\n",
       "      <td>0</td>\n",
       "      <td>0</td>\n",
       "      <td>0</td>\n",
       "      <td>0</td>\n",
       "      <td>0</td>\n",
       "      <td>40.89</td>\n",
       "      <td>0</td>\n",
       "      <td>0</td>\n",
       "      <td>1</td>\n",
       "      <td>0</td>\n",
       "      <td>0</td>\n",
       "      <td>4.0</td>\n",
       "      <td>1</td>\n",
       "      <td>0</td>\n",
       "      <td>0</td>\n",
       "      <td>0</td>\n",
       "      <td>0</td>\n",
       "      <td>0.0</td>\n",
       "      <td>3</td>\n",
       "      <td>0</td>\n",
       "      <td>0</td>\n",
       "      <td>0</td>\n",
       "      <td>0</td>\n",
       "      <td>1</td>\n",
       "      <td>0</td>\n",
       "      <td>0</td>\n",
       "    </tr>\n",
       "  </tbody>\n",
       "</table>\n",
       "</div>"
      ],
      "text/plain": [
       "       Covered in Warranty Processor Variant  Finger Print Sensor  \\\n",
       "949  Manufacturing Defects      AMD R7-5800H                    0   \n",
       "\n",
       "     MS Office Provided   Weight Processor Generation   Screen Resolution  \\\n",
       "949                   1  2.32 Kg                  NaN  1920 x 1080 Pixels   \n",
       "\n",
       "    Suitable For  Backlit Keyboard  Touchscreen     Processor Name RAM Type  \\\n",
       "949       Gaming                 1            0  Ryzen 7 Octa Core     DDR4   \n",
       "\n",
       "                                           Screen Type Domestic Warranty  \\\n",
       "949  FHD, IPS, micro-edge, anti-glare, Low Blue Lig...            1 Year   \n",
       "\n",
       "    Series Operating System Model Number           Screen Size  \\\n",
       "949   OMEN  Windows 11 Home   16-C0138AX  40.89 cm (16.1 Inch)   \n",
       "\n",
       "                                              USB Port  SSD Processor Brand  \\\n",
       "949  1 x SuperSpeed USB Type-C 10Gbps signaling rat...  Yes             AMD   \n",
       "\n",
       "    Storage Type           Type SSD Capacity        Warranty Summary  \\\n",
       "949          SSD  Gaming Laptop       512 GB  1 Year Onsite Warranty   \n",
       "\n",
       "     Model Name    RAM          Graphic Processor           Dimensions  \\\n",
       "949  16-C0138AX  16 GB  NVIDIA GeForce RTX 3050Ti  369 x 245 x 22.5 mm   \n",
       "\n",
       "    OS Architecture  Face Recognition Dedicated Graphic Memory Type  \\\n",
       "949          64 bit                 0                         GDDR6   \n",
       "\n",
       "    Dedicated Graphic Memory Capacity Expandable Memory  \\\n",
       "949                              4 GB                32   \n",
       "\n",
       "    Expandable SSD Capacity Supported Operating System  Number of Cores  \\\n",
       "949                    0 GB            Windows 11 Home                8   \n",
       "\n",
       "    RAM Frequency Chipset Included Software System Architecture  \\\n",
       "949      3200 MHz     NaN               NaN                  64   \n",
       "\n",
       "    Other Accessories HDD Capacity  Rating  \\\n",
       "949               NaN         0 GB     4.3   \n",
       "\n",
       "                                                 Names  Price  RAM (GB)  \\\n",
       "949  HP OMEN AMD Ryzen 7 Octa Core AMD R7-5800H - (...  96100        16   \n",
       "\n",
       "     RAM Type Rank  Domestic Warranty_in_year  SSD (GB)  HDD (GB)  \\\n",
       "949              0                          1       512         0   \n",
       "\n",
       "     Expandable Memory (GB) BRAND Brand_Names  ASUS  Acer  Apple  DELL  HP  \\\n",
       "949                      32    HP          HP     0     0      0     0   1   \n",
       "\n",
       "     Infinix  Lenovo  MICROSOFT  MSI  SAMSUNG  others  Screen Size (mm)  \\\n",
       "949        0       0          0    0        0       0             40.89   \n",
       "\n",
       "     drive_HDD  drive_Hybrid  drive_SSD  drive_eMMC  \\\n",
       "949          0             0          1           0   \n",
       "\n",
       "     Processor Generation_intel  Dedicated Graphic Memory Capacity (GB)  \\\n",
       "949                           0                                     4.0   \n",
       "\n",
       "     Processor_AMD  Processor_Apple  Processor_Intel  Processor_MediaTek  \\\n",
       "949              1                0                0                   0   \n",
       "\n",
       "     Processor_Qualcomm  Apple_chips  Processor_variant_new  \\\n",
       "949                   0          0.0                      3   \n",
       "\n",
       "     Expandable SSD Capacity (GB)  Graphic_Intel  Graphic_MediaTek  \\\n",
       "949                             0              0                 0   \n",
       "\n",
       "     Graphic_NA  Graphic_NVIDIA  Graphic_Qualcomm  Graphic_nan  \n",
       "949           0               1                 0            0  "
      ]
     },
     "execution_count": 9621,
     "metadata": {},
     "output_type": "execute_result"
    }
   ],
   "source": [
    "df.sample()"
   ]
  },
  {
   "cell_type": "code",
   "execution_count": null,
   "id": "af7ec981-0531-4c1e-950a-d56ccaba773c",
   "metadata": {},
   "outputs": [],
   "source": []
  },
  {
   "cell_type": "markdown",
   "id": "1478b722-5bb8-419f-a11a-dc8cd5402a8b",
   "metadata": {},
   "source": [
    "#### _Gaming_"
   ]
  },
  {
   "cell_type": "code",
   "execution_count": 9623,
   "id": "6df50ad4-94da-4faf-b14b-63a00d94b166",
   "metadata": {},
   "outputs": [],
   "source": [
    "def extract_gaming(x):\n",
    "    x=str(x).lower()\n",
    "    if 'gaming' in x:\n",
    "        return 1\n",
    "    else:\n",
    "        return 0\n",
    "    "
   ]
  },
  {
   "cell_type": "code",
   "execution_count": 9624,
   "id": "8139c507-d9c2-4aec-9084-a6f9566611d8",
   "metadata": {},
   "outputs": [],
   "source": [
    "df['Gaming']=df['Type'].apply(extract_gaming)"
   ]
  },
  {
   "cell_type": "markdown",
   "id": "f439f499-e513-4bbe-9843-08ec4641c4fb",
   "metadata": {},
   "source": [
    "#### _Pixel_"
   ]
  },
  {
   "cell_type": "code",
   "execution_count": 9626,
   "id": "11dea2ca-ea0b-431d-a729-2cf8ed090a80",
   "metadata": {},
   "outputs": [
    {
     "data": {
      "text/plain": [
       "Screen Resolution\n",
       "1920 x 1080 Pixel     218\n",
       "1920 x 1080 Pixels     54\n",
       "1920 x 1200 Pixel      46\n",
       "1920 x 1080 pixel      43\n",
       "1920 X 1080 Pixel      30\n",
       "Name: count, dtype: int64"
      ]
     },
     "execution_count": 9626,
     "metadata": {},
     "output_type": "execute_result"
    }
   ],
   "source": [
    "df['Screen Resolution'].value_counts().head()"
   ]
  },
  {
   "cell_type": "code",
   "execution_count": 9627,
   "id": "c86e042e-e5f9-4355-84b2-ac44ee77da88",
   "metadata": {},
   "outputs": [],
   "source": [
    "df['Screen_res (pixel)']=df['Screen Resolution'].apply(lambda x:''.join(i if i.isdigit() else ' ' for i in x).split())\n",
    "df['Screen_res (pixel)']=df['Screen_res (pixel)'].apply(lambda x: list(x))\n"
   ]
  },
  {
   "cell_type": "code",
   "execution_count": 9628,
   "id": "df6c3cf7-7f23-452b-8270-604f51a2826b",
   "metadata": {},
   "outputs": [],
   "source": [
    "df['Screen_res (pixel)']=df['Screen_res (pixel)'].apply(lambda x:int(x[1])*int(x[0]) if len(x)>=2 else int(x[0])*int(x[0])).astype(int)"
   ]
  },
  {
   "cell_type": "code",
   "execution_count": 9629,
   "id": "ddebd6ef-1ea5-484d-9b14-3b778675a24c",
   "metadata": {},
   "outputs": [
    {
     "data": {
      "text/plain": [
       "Screen_res (pixel)\n",
       "2073600    365\n",
       "2304000     59\n",
       "1049088     44\n",
       "5184000     14\n",
       "4096000     12\n",
       "Name: count, dtype: int64"
      ]
     },
     "execution_count": 9629,
     "metadata": {},
     "output_type": "execute_result"
    }
   ],
   "source": [
    "df['Screen_res (pixel)'].value_counts().head()"
   ]
  },
  {
   "cell_type": "markdown",
   "id": "1b7dfc3c-1d59-45f8-b926-cc31266e1552",
   "metadata": {},
   "source": [
    "# PRICE PREDICTION MODEL "
   ]
  },
  {
   "cell_type": "markdown",
   "id": "ba1a1150-f3de-4bca-8b0a-249df9c838d4",
   "metadata": {},
   "source": [
    "## Linear Regression 📈"
   ]
  },
  {
   "cell_type": "markdown",
   "id": "20953bf0-550a-47fa-b2df-cfd9681160fb",
   "metadata": {},
   "source": [
    "#### _Numberic Columns_"
   ]
  },
  {
   "cell_type": "code",
   "execution_count": 9633,
   "id": "65c9e385-a14a-4cf9-b907-03f528215bec",
   "metadata": {},
   "outputs": [
    {
     "data": {
      "text/html": [
       "<div>\n",
       "<style scoped>\n",
       "    .dataframe tbody tr th:only-of-type {\n",
       "        vertical-align: middle;\n",
       "    }\n",
       "\n",
       "    .dataframe tbody tr th {\n",
       "        vertical-align: top;\n",
       "    }\n",
       "\n",
       "    .dataframe thead th {\n",
       "        text-align: right;\n",
       "    }\n",
       "</style>\n",
       "<table border=\"1\" class=\"dataframe\">\n",
       "  <thead>\n",
       "    <tr style=\"text-align: right;\">\n",
       "      <th></th>\n",
       "      <th>Finger Print Sensor</th>\n",
       "      <th>MS Office Provided</th>\n",
       "      <th>Backlit Keyboard</th>\n",
       "      <th>Touchscreen</th>\n",
       "      <th>Face Recognition</th>\n",
       "      <th>Number of Cores</th>\n",
       "      <th>Rating</th>\n",
       "      <th>Price</th>\n",
       "      <th>RAM (GB)</th>\n",
       "      <th>RAM Type Rank</th>\n",
       "      <th>Domestic Warranty_in_year</th>\n",
       "      <th>SSD (GB)</th>\n",
       "      <th>HDD (GB)</th>\n",
       "      <th>Expandable Memory (GB)</th>\n",
       "      <th>ASUS</th>\n",
       "      <th>Acer</th>\n",
       "      <th>Apple</th>\n",
       "      <th>DELL</th>\n",
       "      <th>HP</th>\n",
       "      <th>Infinix</th>\n",
       "      <th>Lenovo</th>\n",
       "      <th>MICROSOFT</th>\n",
       "      <th>MSI</th>\n",
       "      <th>SAMSUNG</th>\n",
       "      <th>others</th>\n",
       "      <th>Screen Size (mm)</th>\n",
       "      <th>drive_HDD</th>\n",
       "      <th>drive_Hybrid</th>\n",
       "      <th>drive_SSD</th>\n",
       "      <th>drive_eMMC</th>\n",
       "      <th>Processor Generation_intel</th>\n",
       "      <th>Dedicated Graphic Memory Capacity (GB)</th>\n",
       "      <th>Processor_AMD</th>\n",
       "      <th>Processor_Apple</th>\n",
       "      <th>Processor_Intel</th>\n",
       "      <th>Processor_MediaTek</th>\n",
       "      <th>Processor_Qualcomm</th>\n",
       "      <th>Apple_chips</th>\n",
       "      <th>Processor_variant_new</th>\n",
       "      <th>Expandable SSD Capacity (GB)</th>\n",
       "      <th>Graphic_Intel</th>\n",
       "      <th>Graphic_MediaTek</th>\n",
       "      <th>Graphic_NA</th>\n",
       "      <th>Graphic_NVIDIA</th>\n",
       "      <th>Graphic_Qualcomm</th>\n",
       "      <th>Graphic_nan</th>\n",
       "      <th>Gaming</th>\n",
       "      <th>Screen_res (pixel)</th>\n",
       "    </tr>\n",
       "  </thead>\n",
       "  <tbody>\n",
       "    <tr>\n",
       "      <th>0</th>\n",
       "      <td>0</td>\n",
       "      <td>0</td>\n",
       "      <td>0</td>\n",
       "      <td>0</td>\n",
       "      <td>0</td>\n",
       "      <td>6</td>\n",
       "      <td>3.8</td>\n",
       "      <td>19990</td>\n",
       "      <td>8</td>\n",
       "      <td>4</td>\n",
       "      <td>0</td>\n",
       "      <td>256</td>\n",
       "      <td>0</td>\n",
       "      <td>0</td>\n",
       "      <td>0</td>\n",
       "      <td>1</td>\n",
       "      <td>0</td>\n",
       "      <td>0</td>\n",
       "      <td>0</td>\n",
       "      <td>0</td>\n",
       "      <td>0</td>\n",
       "      <td>0</td>\n",
       "      <td>0</td>\n",
       "      <td>0</td>\n",
       "      <td>0</td>\n",
       "      <td>35.56</td>\n",
       "      <td>0</td>\n",
       "      <td>0</td>\n",
       "      <td>1</td>\n",
       "      <td>0</td>\n",
       "      <td>0</td>\n",
       "      <td>0.0</td>\n",
       "      <td>0</td>\n",
       "      <td>0</td>\n",
       "      <td>1</td>\n",
       "      <td>0</td>\n",
       "      <td>0</td>\n",
       "      <td>0.0</td>\n",
       "      <td>1</td>\n",
       "      <td>0</td>\n",
       "      <td>1</td>\n",
       "      <td>0</td>\n",
       "      <td>0</td>\n",
       "      <td>0</td>\n",
       "      <td>0</td>\n",
       "      <td>0</td>\n",
       "      <td>0</td>\n",
       "      <td>2073600</td>\n",
       "    </tr>\n",
       "    <tr>\n",
       "      <th>1</th>\n",
       "      <td>0</td>\n",
       "      <td>0</td>\n",
       "      <td>1</td>\n",
       "      <td>0</td>\n",
       "      <td>0</td>\n",
       "      <td>6</td>\n",
       "      <td>4.1</td>\n",
       "      <td>44990</td>\n",
       "      <td>16</td>\n",
       "      <td>0</td>\n",
       "      <td>0</td>\n",
       "      <td>512</td>\n",
       "      <td>0</td>\n",
       "      <td>0</td>\n",
       "      <td>0</td>\n",
       "      <td>1</td>\n",
       "      <td>0</td>\n",
       "      <td>0</td>\n",
       "      <td>0</td>\n",
       "      <td>0</td>\n",
       "      <td>0</td>\n",
       "      <td>0</td>\n",
       "      <td>0</td>\n",
       "      <td>0</td>\n",
       "      <td>0</td>\n",
       "      <td>35.56</td>\n",
       "      <td>0</td>\n",
       "      <td>0</td>\n",
       "      <td>1</td>\n",
       "      <td>0</td>\n",
       "      <td>12</td>\n",
       "      <td>0.0</td>\n",
       "      <td>0</td>\n",
       "      <td>0</td>\n",
       "      <td>1</td>\n",
       "      <td>0</td>\n",
       "      <td>0</td>\n",
       "      <td>0.0</td>\n",
       "      <td>2</td>\n",
       "      <td>0</td>\n",
       "      <td>1</td>\n",
       "      <td>0</td>\n",
       "      <td>0</td>\n",
       "      <td>0</td>\n",
       "      <td>0</td>\n",
       "      <td>0</td>\n",
       "      <td>0</td>\n",
       "      <td>2073600</td>\n",
       "    </tr>\n",
       "    <tr>\n",
       "      <th>2</th>\n",
       "      <td>0</td>\n",
       "      <td>0</td>\n",
       "      <td>0</td>\n",
       "      <td>1</td>\n",
       "      <td>0</td>\n",
       "      <td>6</td>\n",
       "      <td>3.3</td>\n",
       "      <td>11988</td>\n",
       "      <td>4</td>\n",
       "      <td>2</td>\n",
       "      <td>0</td>\n",
       "      <td>0</td>\n",
       "      <td>0</td>\n",
       "      <td>0</td>\n",
       "      <td>0</td>\n",
       "      <td>0</td>\n",
       "      <td>0</td>\n",
       "      <td>0</td>\n",
       "      <td>1</td>\n",
       "      <td>0</td>\n",
       "      <td>0</td>\n",
       "      <td>0</td>\n",
       "      <td>0</td>\n",
       "      <td>0</td>\n",
       "      <td>0</td>\n",
       "      <td>29.46</td>\n",
       "      <td>0</td>\n",
       "      <td>0</td>\n",
       "      <td>0</td>\n",
       "      <td>1</td>\n",
       "      <td>0</td>\n",
       "      <td>0.0</td>\n",
       "      <td>0</td>\n",
       "      <td>0</td>\n",
       "      <td>0</td>\n",
       "      <td>1</td>\n",
       "      <td>0</td>\n",
       "      <td>0.0</td>\n",
       "      <td>0</td>\n",
       "      <td>0</td>\n",
       "      <td>0</td>\n",
       "      <td>1</td>\n",
       "      <td>0</td>\n",
       "      <td>0</td>\n",
       "      <td>0</td>\n",
       "      <td>0</td>\n",
       "      <td>0</td>\n",
       "      <td>1049088</td>\n",
       "    </tr>\n",
       "    <tr>\n",
       "      <th>3</th>\n",
       "      <td>0</td>\n",
       "      <td>0</td>\n",
       "      <td>0</td>\n",
       "      <td>0</td>\n",
       "      <td>0</td>\n",
       "      <td>6</td>\n",
       "      <td>4.3</td>\n",
       "      <td>51990</td>\n",
       "      <td>16</td>\n",
       "      <td>0</td>\n",
       "      <td>0</td>\n",
       "      <td>512</td>\n",
       "      <td>0</td>\n",
       "      <td>0</td>\n",
       "      <td>0</td>\n",
       "      <td>0</td>\n",
       "      <td>0</td>\n",
       "      <td>0</td>\n",
       "      <td>0</td>\n",
       "      <td>0</td>\n",
       "      <td>0</td>\n",
       "      <td>0</td>\n",
       "      <td>1</td>\n",
       "      <td>0</td>\n",
       "      <td>0</td>\n",
       "      <td>39.62</td>\n",
       "      <td>0</td>\n",
       "      <td>0</td>\n",
       "      <td>1</td>\n",
       "      <td>0</td>\n",
       "      <td>12</td>\n",
       "      <td>4.0</td>\n",
       "      <td>0</td>\n",
       "      <td>0</td>\n",
       "      <td>1</td>\n",
       "      <td>0</td>\n",
       "      <td>0</td>\n",
       "      <td>0.0</td>\n",
       "      <td>3</td>\n",
       "      <td>0</td>\n",
       "      <td>0</td>\n",
       "      <td>0</td>\n",
       "      <td>0</td>\n",
       "      <td>1</td>\n",
       "      <td>0</td>\n",
       "      <td>0</td>\n",
       "      <td>1</td>\n",
       "      <td>2073600</td>\n",
       "    </tr>\n",
       "    <tr>\n",
       "      <th>4</th>\n",
       "      <td>0</td>\n",
       "      <td>1</td>\n",
       "      <td>0</td>\n",
       "      <td>0</td>\n",
       "      <td>0</td>\n",
       "      <td>6</td>\n",
       "      <td>4.2</td>\n",
       "      <td>37990</td>\n",
       "      <td>8</td>\n",
       "      <td>0</td>\n",
       "      <td>0</td>\n",
       "      <td>512</td>\n",
       "      <td>0</td>\n",
       "      <td>0</td>\n",
       "      <td>0</td>\n",
       "      <td>0</td>\n",
       "      <td>0</td>\n",
       "      <td>0</td>\n",
       "      <td>1</td>\n",
       "      <td>0</td>\n",
       "      <td>0</td>\n",
       "      <td>0</td>\n",
       "      <td>0</td>\n",
       "      <td>0</td>\n",
       "      <td>0</td>\n",
       "      <td>39.62</td>\n",
       "      <td>0</td>\n",
       "      <td>0</td>\n",
       "      <td>1</td>\n",
       "      <td>0</td>\n",
       "      <td>12</td>\n",
       "      <td>0.0</td>\n",
       "      <td>0</td>\n",
       "      <td>0</td>\n",
       "      <td>1</td>\n",
       "      <td>0</td>\n",
       "      <td>0</td>\n",
       "      <td>0.0</td>\n",
       "      <td>2</td>\n",
       "      <td>0</td>\n",
       "      <td>1</td>\n",
       "      <td>0</td>\n",
       "      <td>0</td>\n",
       "      <td>0</td>\n",
       "      <td>0</td>\n",
       "      <td>0</td>\n",
       "      <td>0</td>\n",
       "      <td>2073600</td>\n",
       "    </tr>\n",
       "    <tr>\n",
       "      <th>...</th>\n",
       "      <td>...</td>\n",
       "      <td>...</td>\n",
       "      <td>...</td>\n",
       "      <td>...</td>\n",
       "      <td>...</td>\n",
       "      <td>...</td>\n",
       "      <td>...</td>\n",
       "      <td>...</td>\n",
       "      <td>...</td>\n",
       "      <td>...</td>\n",
       "      <td>...</td>\n",
       "      <td>...</td>\n",
       "      <td>...</td>\n",
       "      <td>...</td>\n",
       "      <td>...</td>\n",
       "      <td>...</td>\n",
       "      <td>...</td>\n",
       "      <td>...</td>\n",
       "      <td>...</td>\n",
       "      <td>...</td>\n",
       "      <td>...</td>\n",
       "      <td>...</td>\n",
       "      <td>...</td>\n",
       "      <td>...</td>\n",
       "      <td>...</td>\n",
       "      <td>...</td>\n",
       "      <td>...</td>\n",
       "      <td>...</td>\n",
       "      <td>...</td>\n",
       "      <td>...</td>\n",
       "      <td>...</td>\n",
       "      <td>...</td>\n",
       "      <td>...</td>\n",
       "      <td>...</td>\n",
       "      <td>...</td>\n",
       "      <td>...</td>\n",
       "      <td>...</td>\n",
       "      <td>...</td>\n",
       "      <td>...</td>\n",
       "      <td>...</td>\n",
       "      <td>...</td>\n",
       "      <td>...</td>\n",
       "      <td>...</td>\n",
       "      <td>...</td>\n",
       "      <td>...</td>\n",
       "      <td>...</td>\n",
       "      <td>...</td>\n",
       "      <td>...</td>\n",
       "    </tr>\n",
       "    <tr>\n",
       "      <th>950</th>\n",
       "      <td>0</td>\n",
       "      <td>1</td>\n",
       "      <td>1</td>\n",
       "      <td>0</td>\n",
       "      <td>0</td>\n",
       "      <td>10</td>\n",
       "      <td>NaN</td>\n",
       "      <td>79099</td>\n",
       "      <td>8</td>\n",
       "      <td>0</td>\n",
       "      <td>0</td>\n",
       "      <td>512</td>\n",
       "      <td>0</td>\n",
       "      <td>0</td>\n",
       "      <td>0</td>\n",
       "      <td>0</td>\n",
       "      <td>0</td>\n",
       "      <td>0</td>\n",
       "      <td>1</td>\n",
       "      <td>0</td>\n",
       "      <td>0</td>\n",
       "      <td>0</td>\n",
       "      <td>0</td>\n",
       "      <td>0</td>\n",
       "      <td>0</td>\n",
       "      <td>39.62</td>\n",
       "      <td>0</td>\n",
       "      <td>0</td>\n",
       "      <td>1</td>\n",
       "      <td>0</td>\n",
       "      <td>12</td>\n",
       "      <td>4.0</td>\n",
       "      <td>0</td>\n",
       "      <td>0</td>\n",
       "      <td>1</td>\n",
       "      <td>0</td>\n",
       "      <td>0</td>\n",
       "      <td>0.0</td>\n",
       "      <td>0</td>\n",
       "      <td>0</td>\n",
       "      <td>0</td>\n",
       "      <td>0</td>\n",
       "      <td>0</td>\n",
       "      <td>1</td>\n",
       "      <td>0</td>\n",
       "      <td>0</td>\n",
       "      <td>1</td>\n",
       "      <td>2073600</td>\n",
       "    </tr>\n",
       "    <tr>\n",
       "      <th>951</th>\n",
       "      <td>0</td>\n",
       "      <td>1</td>\n",
       "      <td>1</td>\n",
       "      <td>0</td>\n",
       "      <td>0</td>\n",
       "      <td>6</td>\n",
       "      <td>4.2</td>\n",
       "      <td>69990</td>\n",
       "      <td>16</td>\n",
       "      <td>0</td>\n",
       "      <td>0</td>\n",
       "      <td>512</td>\n",
       "      <td>0</td>\n",
       "      <td>0</td>\n",
       "      <td>1</td>\n",
       "      <td>0</td>\n",
       "      <td>0</td>\n",
       "      <td>0</td>\n",
       "      <td>0</td>\n",
       "      <td>0</td>\n",
       "      <td>0</td>\n",
       "      <td>0</td>\n",
       "      <td>0</td>\n",
       "      <td>0</td>\n",
       "      <td>0</td>\n",
       "      <td>40.64</td>\n",
       "      <td>0</td>\n",
       "      <td>0</td>\n",
       "      <td>1</td>\n",
       "      <td>0</td>\n",
       "      <td>12</td>\n",
       "      <td>4.0</td>\n",
       "      <td>0</td>\n",
       "      <td>0</td>\n",
       "      <td>1</td>\n",
       "      <td>0</td>\n",
       "      <td>0</td>\n",
       "      <td>0.0</td>\n",
       "      <td>3</td>\n",
       "      <td>0</td>\n",
       "      <td>0</td>\n",
       "      <td>0</td>\n",
       "      <td>0</td>\n",
       "      <td>1</td>\n",
       "      <td>0</td>\n",
       "      <td>0</td>\n",
       "      <td>1</td>\n",
       "      <td>2304000</td>\n",
       "    </tr>\n",
       "    <tr>\n",
       "      <th>955</th>\n",
       "      <td>1</td>\n",
       "      <td>1</td>\n",
       "      <td>1</td>\n",
       "      <td>0</td>\n",
       "      <td>0</td>\n",
       "      <td>10</td>\n",
       "      <td>4.4</td>\n",
       "      <td>59990</td>\n",
       "      <td>16</td>\n",
       "      <td>2</td>\n",
       "      <td>1</td>\n",
       "      <td>512</td>\n",
       "      <td>0</td>\n",
       "      <td>0</td>\n",
       "      <td>0</td>\n",
       "      <td>0</td>\n",
       "      <td>0</td>\n",
       "      <td>0</td>\n",
       "      <td>0</td>\n",
       "      <td>0</td>\n",
       "      <td>0</td>\n",
       "      <td>0</td>\n",
       "      <td>0</td>\n",
       "      <td>1</td>\n",
       "      <td>0</td>\n",
       "      <td>39.62</td>\n",
       "      <td>0</td>\n",
       "      <td>0</td>\n",
       "      <td>1</td>\n",
       "      <td>0</td>\n",
       "      <td>12</td>\n",
       "      <td>0.0</td>\n",
       "      <td>0</td>\n",
       "      <td>0</td>\n",
       "      <td>1</td>\n",
       "      <td>0</td>\n",
       "      <td>0</td>\n",
       "      <td>0.0</td>\n",
       "      <td>2</td>\n",
       "      <td>0</td>\n",
       "      <td>1</td>\n",
       "      <td>0</td>\n",
       "      <td>0</td>\n",
       "      <td>0</td>\n",
       "      <td>0</td>\n",
       "      <td>0</td>\n",
       "      <td>0</td>\n",
       "      <td>2073600</td>\n",
       "    </tr>\n",
       "    <tr>\n",
       "      <th>958</th>\n",
       "      <td>0</td>\n",
       "      <td>1</td>\n",
       "      <td>0</td>\n",
       "      <td>0</td>\n",
       "      <td>0</td>\n",
       "      <td>2</td>\n",
       "      <td>4.3</td>\n",
       "      <td>36990</td>\n",
       "      <td>8</td>\n",
       "      <td>0</td>\n",
       "      <td>1</td>\n",
       "      <td>256</td>\n",
       "      <td>1000</td>\n",
       "      <td>16</td>\n",
       "      <td>0</td>\n",
       "      <td>0</td>\n",
       "      <td>0</td>\n",
       "      <td>0</td>\n",
       "      <td>1</td>\n",
       "      <td>0</td>\n",
       "      <td>0</td>\n",
       "      <td>0</td>\n",
       "      <td>0</td>\n",
       "      <td>0</td>\n",
       "      <td>0</td>\n",
       "      <td>39.62</td>\n",
       "      <td>0</td>\n",
       "      <td>1</td>\n",
       "      <td>0</td>\n",
       "      <td>0</td>\n",
       "      <td>0</td>\n",
       "      <td>0.0</td>\n",
       "      <td>1</td>\n",
       "      <td>0</td>\n",
       "      <td>0</td>\n",
       "      <td>0</td>\n",
       "      <td>0</td>\n",
       "      <td>0.0</td>\n",
       "      <td>2</td>\n",
       "      <td>0</td>\n",
       "      <td>0</td>\n",
       "      <td>0</td>\n",
       "      <td>0</td>\n",
       "      <td>0</td>\n",
       "      <td>0</td>\n",
       "      <td>0</td>\n",
       "      <td>0</td>\n",
       "      <td>2073600</td>\n",
       "    </tr>\n",
       "    <tr>\n",
       "      <th>959</th>\n",
       "      <td>1</td>\n",
       "      <td>1</td>\n",
       "      <td>0</td>\n",
       "      <td>0</td>\n",
       "      <td>0</td>\n",
       "      <td>6</td>\n",
       "      <td>3.9</td>\n",
       "      <td>47890</td>\n",
       "      <td>8</td>\n",
       "      <td>0</td>\n",
       "      <td>1</td>\n",
       "      <td>512</td>\n",
       "      <td>0</td>\n",
       "      <td>0</td>\n",
       "      <td>1</td>\n",
       "      <td>0</td>\n",
       "      <td>0</td>\n",
       "      <td>0</td>\n",
       "      <td>0</td>\n",
       "      <td>0</td>\n",
       "      <td>0</td>\n",
       "      <td>0</td>\n",
       "      <td>0</td>\n",
       "      <td>0</td>\n",
       "      <td>0</td>\n",
       "      <td>35.56</td>\n",
       "      <td>0</td>\n",
       "      <td>0</td>\n",
       "      <td>1</td>\n",
       "      <td>0</td>\n",
       "      <td>13</td>\n",
       "      <td>0.0</td>\n",
       "      <td>0</td>\n",
       "      <td>0</td>\n",
       "      <td>1</td>\n",
       "      <td>0</td>\n",
       "      <td>0</td>\n",
       "      <td>0.0</td>\n",
       "      <td>2</td>\n",
       "      <td>0</td>\n",
       "      <td>1</td>\n",
       "      <td>0</td>\n",
       "      <td>0</td>\n",
       "      <td>0</td>\n",
       "      <td>0</td>\n",
       "      <td>0</td>\n",
       "      <td>0</td>\n",
       "      <td>2073600</td>\n",
       "    </tr>\n",
       "  </tbody>\n",
       "</table>\n",
       "<p>548 rows × 48 columns</p>\n",
       "</div>"
      ],
      "text/plain": [
       "     Finger Print Sensor  MS Office Provided  Backlit Keyboard  Touchscreen  \\\n",
       "0                      0                   0                 0            0   \n",
       "1                      0                   0                 1            0   \n",
       "2                      0                   0                 0            1   \n",
       "3                      0                   0                 0            0   \n",
       "4                      0                   1                 0            0   \n",
       "..                   ...                 ...               ...          ...   \n",
       "950                    0                   1                 1            0   \n",
       "951                    0                   1                 1            0   \n",
       "955                    1                   1                 1            0   \n",
       "958                    0                   1                 0            0   \n",
       "959                    1                   1                 0            0   \n",
       "\n",
       "     Face Recognition  Number of Cores  Rating  Price  RAM (GB)  \\\n",
       "0                   0                6     3.8  19990         8   \n",
       "1                   0                6     4.1  44990        16   \n",
       "2                   0                6     3.3  11988         4   \n",
       "3                   0                6     4.3  51990        16   \n",
       "4                   0                6     4.2  37990         8   \n",
       "..                ...              ...     ...    ...       ...   \n",
       "950                 0               10     NaN  79099         8   \n",
       "951                 0                6     4.2  69990        16   \n",
       "955                 0               10     4.4  59990        16   \n",
       "958                 0                2     4.3  36990         8   \n",
       "959                 0                6     3.9  47890         8   \n",
       "\n",
       "     RAM Type Rank  Domestic Warranty_in_year  SSD (GB)  HDD (GB)  \\\n",
       "0                4                          0       256         0   \n",
       "1                0                          0       512         0   \n",
       "2                2                          0         0         0   \n",
       "3                0                          0       512         0   \n",
       "4                0                          0       512         0   \n",
       "..             ...                        ...       ...       ...   \n",
       "950              0                          0       512         0   \n",
       "951              0                          0       512         0   \n",
       "955              2                          1       512         0   \n",
       "958              0                          1       256      1000   \n",
       "959              0                          1       512         0   \n",
       "\n",
       "     Expandable Memory (GB)  ASUS  Acer  Apple  DELL  HP  Infinix  Lenovo  \\\n",
       "0                         0     0     1      0     0   0        0       0   \n",
       "1                         0     0     1      0     0   0        0       0   \n",
       "2                         0     0     0      0     0   1        0       0   \n",
       "3                         0     0     0      0     0   0        0       0   \n",
       "4                         0     0     0      0     0   1        0       0   \n",
       "..                      ...   ...   ...    ...   ...  ..      ...     ...   \n",
       "950                       0     0     0      0     0   1        0       0   \n",
       "951                       0     1     0      0     0   0        0       0   \n",
       "955                       0     0     0      0     0   0        0       0   \n",
       "958                      16     0     0      0     0   1        0       0   \n",
       "959                       0     1     0      0     0   0        0       0   \n",
       "\n",
       "     MICROSOFT  MSI  SAMSUNG  others  Screen Size (mm)  drive_HDD  \\\n",
       "0            0    0        0       0             35.56          0   \n",
       "1            0    0        0       0             35.56          0   \n",
       "2            0    0        0       0             29.46          0   \n",
       "3            0    1        0       0             39.62          0   \n",
       "4            0    0        0       0             39.62          0   \n",
       "..         ...  ...      ...     ...               ...        ...   \n",
       "950          0    0        0       0             39.62          0   \n",
       "951          0    0        0       0             40.64          0   \n",
       "955          0    0        1       0             39.62          0   \n",
       "958          0    0        0       0             39.62          0   \n",
       "959          0    0        0       0             35.56          0   \n",
       "\n",
       "     drive_Hybrid  drive_SSD  drive_eMMC  Processor Generation_intel  \\\n",
       "0               0          1           0                           0   \n",
       "1               0          1           0                          12   \n",
       "2               0          0           1                           0   \n",
       "3               0          1           0                          12   \n",
       "4               0          1           0                          12   \n",
       "..            ...        ...         ...                         ...   \n",
       "950             0          1           0                          12   \n",
       "951             0          1           0                          12   \n",
       "955             0          1           0                          12   \n",
       "958             1          0           0                           0   \n",
       "959             0          1           0                          13   \n",
       "\n",
       "     Dedicated Graphic Memory Capacity (GB)  Processor_AMD  Processor_Apple  \\\n",
       "0                                       0.0              0                0   \n",
       "1                                       0.0              0                0   \n",
       "2                                       0.0              0                0   \n",
       "3                                       4.0              0                0   \n",
       "4                                       0.0              0                0   \n",
       "..                                      ...            ...              ...   \n",
       "950                                     4.0              0                0   \n",
       "951                                     4.0              0                0   \n",
       "955                                     0.0              0                0   \n",
       "958                                     0.0              1                0   \n",
       "959                                     0.0              0                0   \n",
       "\n",
       "     Processor_Intel  Processor_MediaTek  Processor_Qualcomm  Apple_chips  \\\n",
       "0                  1                   0                   0          0.0   \n",
       "1                  1                   0                   0          0.0   \n",
       "2                  0                   1                   0          0.0   \n",
       "3                  1                   0                   0          0.0   \n",
       "4                  1                   0                   0          0.0   \n",
       "..               ...                 ...                 ...          ...   \n",
       "950                1                   0                   0          0.0   \n",
       "951                1                   0                   0          0.0   \n",
       "955                1                   0                   0          0.0   \n",
       "958                0                   0                   0          0.0   \n",
       "959                1                   0                   0          0.0   \n",
       "\n",
       "     Processor_variant_new  Expandable SSD Capacity (GB)  Graphic_Intel  \\\n",
       "0                        1                             0              1   \n",
       "1                        2                             0              1   \n",
       "2                        0                             0              0   \n",
       "3                        3                             0              0   \n",
       "4                        2                             0              1   \n",
       "..                     ...                           ...            ...   \n",
       "950                      0                             0              0   \n",
       "951                      3                             0              0   \n",
       "955                      2                             0              1   \n",
       "958                      2                             0              0   \n",
       "959                      2                             0              1   \n",
       "\n",
       "     Graphic_MediaTek  Graphic_NA  Graphic_NVIDIA  Graphic_Qualcomm  \\\n",
       "0                   0           0               0                 0   \n",
       "1                   0           0               0                 0   \n",
       "2                   1           0               0                 0   \n",
       "3                   0           0               1                 0   \n",
       "4                   0           0               0                 0   \n",
       "..                ...         ...             ...               ...   \n",
       "950                 0           0               1                 0   \n",
       "951                 0           0               1                 0   \n",
       "955                 0           0               0                 0   \n",
       "958                 0           0               0                 0   \n",
       "959                 0           0               0                 0   \n",
       "\n",
       "     Graphic_nan  Gaming  Screen_res (pixel)  \n",
       "0              0       0             2073600  \n",
       "1              0       0             2073600  \n",
       "2              0       0             1049088  \n",
       "3              0       1             2073600  \n",
       "4              0       0             2073600  \n",
       "..           ...     ...                 ...  \n",
       "950            0       1             2073600  \n",
       "951            0       1             2304000  \n",
       "955            0       0             2073600  \n",
       "958            0       0             2073600  \n",
       "959            0       0             2073600  \n",
       "\n",
       "[548 rows x 48 columns]"
      ]
     },
     "execution_count": 9633,
     "metadata": {},
     "output_type": "execute_result"
    }
   ],
   "source": [
    "df.select_dtypes(include=['number'])"
   ]
  },
  {
   "cell_type": "markdown",
   "id": "c5adf1ac-13d2-4dbb-94f1-a3a0bfb86b9c",
   "metadata": {},
   "source": [
    "### _DATA_"
   ]
  },
  {
   "cell_type": "code",
   "execution_count": 9635,
   "id": "716902be-d4fc-4e2d-844b-4aeac80942ba",
   "metadata": {},
   "outputs": [],
   "source": [
    "df2=df.select_dtypes(include=['number'])#As we are applying Linear REgression only Numberic columns are included"
   ]
  },
  {
   "cell_type": "code",
   "execution_count": 9636,
   "id": "5bce9468-d18d-4dc6-afae-7e2fd2dffa3b",
   "metadata": {},
   "outputs": [],
   "source": [
    "df2['Rating'].fillna(value=df2.Rating.mean(),inplace=True)#Imputing NULL ratings with mean ratings\n"
   ]
  },
  {
   "cell_type": "code",
   "execution_count": 9637,
   "id": "82a055ab-a402-4f55-bd34-8d29e8406d2f",
   "metadata": {},
   "outputs": [],
   "source": [
    "df2.drop(columns=['Graphic_NA','Domestic Warranty_in_year'],axis=1,inplace=True)#were affecting are model😅"
   ]
  },
  {
   "cell_type": "markdown",
   "id": "c96b29df-5ad6-4b8f-b2b6-d4dc21eee518",
   "metadata": {},
   "source": [
    "#### _Spilliting_"
   ]
  },
  {
   "cell_type": "markdown",
   "id": "227de02f-abc1-45a5-b265-a54090947f0a",
   "metadata": {},
   "source": [
    "##### _Label / Response_ (Y)"
   ]
  },
  {
   "cell_type": "code",
   "execution_count": 9640,
   "id": "a3fde44f-f082-48b8-bc7b-28e0cacb2b7f",
   "metadata": {},
   "outputs": [],
   "source": [
    "y=df2.loc[:,['Price']] "
   ]
  },
  {
   "cell_type": "markdown",
   "id": "8ba8ff0a-efdf-4795-abe5-b15d67580c0d",
   "metadata": {},
   "source": [
    "##### _Features_ (X)"
   ]
  },
  {
   "cell_type": "code",
   "execution_count": 9642,
   "id": "a1669101-2122-4bec-963f-cd0de1e54bb4",
   "metadata": {},
   "outputs": [],
   "source": [
    "x=df2.drop(columns=['Price'],axis=1)\n"
   ]
  },
  {
   "cell_type": "code",
   "execution_count": 9643,
   "id": "d4ea12cc-4e1f-43de-98e7-db70fe64b56e",
   "metadata": {},
   "outputs": [
    {
     "data": {
      "text/html": [
       "<div>\n",
       "<style scoped>\n",
       "    .dataframe tbody tr th:only-of-type {\n",
       "        vertical-align: middle;\n",
       "    }\n",
       "\n",
       "    .dataframe tbody tr th {\n",
       "        vertical-align: top;\n",
       "    }\n",
       "\n",
       "    .dataframe thead th {\n",
       "        text-align: right;\n",
       "    }\n",
       "</style>\n",
       "<table border=\"1\" class=\"dataframe\">\n",
       "  <thead>\n",
       "    <tr style=\"text-align: right;\">\n",
       "      <th></th>\n",
       "      <th>Finger Print Sensor</th>\n",
       "      <th>MS Office Provided</th>\n",
       "      <th>Backlit Keyboard</th>\n",
       "      <th>Touchscreen</th>\n",
       "      <th>Face Recognition</th>\n",
       "      <th>Number of Cores</th>\n",
       "      <th>Rating</th>\n",
       "      <th>RAM (GB)</th>\n",
       "      <th>RAM Type Rank</th>\n",
       "      <th>SSD (GB)</th>\n",
       "      <th>HDD (GB)</th>\n",
       "      <th>Expandable Memory (GB)</th>\n",
       "      <th>ASUS</th>\n",
       "      <th>Acer</th>\n",
       "      <th>Apple</th>\n",
       "      <th>DELL</th>\n",
       "      <th>HP</th>\n",
       "      <th>Infinix</th>\n",
       "      <th>Lenovo</th>\n",
       "      <th>MICROSOFT</th>\n",
       "      <th>MSI</th>\n",
       "      <th>SAMSUNG</th>\n",
       "      <th>others</th>\n",
       "      <th>Screen Size (mm)</th>\n",
       "      <th>drive_HDD</th>\n",
       "      <th>drive_Hybrid</th>\n",
       "      <th>drive_SSD</th>\n",
       "      <th>drive_eMMC</th>\n",
       "      <th>Processor Generation_intel</th>\n",
       "      <th>Dedicated Graphic Memory Capacity (GB)</th>\n",
       "      <th>Processor_AMD</th>\n",
       "      <th>Processor_Apple</th>\n",
       "      <th>Processor_Intel</th>\n",
       "      <th>Processor_MediaTek</th>\n",
       "      <th>Processor_Qualcomm</th>\n",
       "      <th>Apple_chips</th>\n",
       "      <th>Processor_variant_new</th>\n",
       "      <th>Expandable SSD Capacity (GB)</th>\n",
       "      <th>Graphic_Intel</th>\n",
       "      <th>Graphic_MediaTek</th>\n",
       "      <th>Graphic_NVIDIA</th>\n",
       "      <th>Graphic_Qualcomm</th>\n",
       "      <th>Graphic_nan</th>\n",
       "      <th>Gaming</th>\n",
       "      <th>Screen_res (pixel)</th>\n",
       "    </tr>\n",
       "  </thead>\n",
       "  <tbody>\n",
       "    <tr>\n",
       "      <th>0</th>\n",
       "      <td>0</td>\n",
       "      <td>0</td>\n",
       "      <td>0</td>\n",
       "      <td>0</td>\n",
       "      <td>0</td>\n",
       "      <td>6</td>\n",
       "      <td>3.800000</td>\n",
       "      <td>8</td>\n",
       "      <td>4</td>\n",
       "      <td>256</td>\n",
       "      <td>0</td>\n",
       "      <td>0</td>\n",
       "      <td>0</td>\n",
       "      <td>1</td>\n",
       "      <td>0</td>\n",
       "      <td>0</td>\n",
       "      <td>0</td>\n",
       "      <td>0</td>\n",
       "      <td>0</td>\n",
       "      <td>0</td>\n",
       "      <td>0</td>\n",
       "      <td>0</td>\n",
       "      <td>0</td>\n",
       "      <td>35.56</td>\n",
       "      <td>0</td>\n",
       "      <td>0</td>\n",
       "      <td>1</td>\n",
       "      <td>0</td>\n",
       "      <td>0</td>\n",
       "      <td>0.0</td>\n",
       "      <td>0</td>\n",
       "      <td>0</td>\n",
       "      <td>1</td>\n",
       "      <td>0</td>\n",
       "      <td>0</td>\n",
       "      <td>0.0</td>\n",
       "      <td>1</td>\n",
       "      <td>0</td>\n",
       "      <td>1</td>\n",
       "      <td>0</td>\n",
       "      <td>0</td>\n",
       "      <td>0</td>\n",
       "      <td>0</td>\n",
       "      <td>0</td>\n",
       "      <td>2073600</td>\n",
       "    </tr>\n",
       "    <tr>\n",
       "      <th>1</th>\n",
       "      <td>0</td>\n",
       "      <td>0</td>\n",
       "      <td>1</td>\n",
       "      <td>0</td>\n",
       "      <td>0</td>\n",
       "      <td>6</td>\n",
       "      <td>4.100000</td>\n",
       "      <td>16</td>\n",
       "      <td>0</td>\n",
       "      <td>512</td>\n",
       "      <td>0</td>\n",
       "      <td>0</td>\n",
       "      <td>0</td>\n",
       "      <td>1</td>\n",
       "      <td>0</td>\n",
       "      <td>0</td>\n",
       "      <td>0</td>\n",
       "      <td>0</td>\n",
       "      <td>0</td>\n",
       "      <td>0</td>\n",
       "      <td>0</td>\n",
       "      <td>0</td>\n",
       "      <td>0</td>\n",
       "      <td>35.56</td>\n",
       "      <td>0</td>\n",
       "      <td>0</td>\n",
       "      <td>1</td>\n",
       "      <td>0</td>\n",
       "      <td>12</td>\n",
       "      <td>0.0</td>\n",
       "      <td>0</td>\n",
       "      <td>0</td>\n",
       "      <td>1</td>\n",
       "      <td>0</td>\n",
       "      <td>0</td>\n",
       "      <td>0.0</td>\n",
       "      <td>2</td>\n",
       "      <td>0</td>\n",
       "      <td>1</td>\n",
       "      <td>0</td>\n",
       "      <td>0</td>\n",
       "      <td>0</td>\n",
       "      <td>0</td>\n",
       "      <td>0</td>\n",
       "      <td>2073600</td>\n",
       "    </tr>\n",
       "    <tr>\n",
       "      <th>2</th>\n",
       "      <td>0</td>\n",
       "      <td>0</td>\n",
       "      <td>0</td>\n",
       "      <td>1</td>\n",
       "      <td>0</td>\n",
       "      <td>6</td>\n",
       "      <td>3.300000</td>\n",
       "      <td>4</td>\n",
       "      <td>2</td>\n",
       "      <td>0</td>\n",
       "      <td>0</td>\n",
       "      <td>0</td>\n",
       "      <td>0</td>\n",
       "      <td>0</td>\n",
       "      <td>0</td>\n",
       "      <td>0</td>\n",
       "      <td>1</td>\n",
       "      <td>0</td>\n",
       "      <td>0</td>\n",
       "      <td>0</td>\n",
       "      <td>0</td>\n",
       "      <td>0</td>\n",
       "      <td>0</td>\n",
       "      <td>29.46</td>\n",
       "      <td>0</td>\n",
       "      <td>0</td>\n",
       "      <td>0</td>\n",
       "      <td>1</td>\n",
       "      <td>0</td>\n",
       "      <td>0.0</td>\n",
       "      <td>0</td>\n",
       "      <td>0</td>\n",
       "      <td>0</td>\n",
       "      <td>1</td>\n",
       "      <td>0</td>\n",
       "      <td>0.0</td>\n",
       "      <td>0</td>\n",
       "      <td>0</td>\n",
       "      <td>0</td>\n",
       "      <td>1</td>\n",
       "      <td>0</td>\n",
       "      <td>0</td>\n",
       "      <td>0</td>\n",
       "      <td>0</td>\n",
       "      <td>1049088</td>\n",
       "    </tr>\n",
       "    <tr>\n",
       "      <th>3</th>\n",
       "      <td>0</td>\n",
       "      <td>0</td>\n",
       "      <td>0</td>\n",
       "      <td>0</td>\n",
       "      <td>0</td>\n",
       "      <td>6</td>\n",
       "      <td>4.300000</td>\n",
       "      <td>16</td>\n",
       "      <td>0</td>\n",
       "      <td>512</td>\n",
       "      <td>0</td>\n",
       "      <td>0</td>\n",
       "      <td>0</td>\n",
       "      <td>0</td>\n",
       "      <td>0</td>\n",
       "      <td>0</td>\n",
       "      <td>0</td>\n",
       "      <td>0</td>\n",
       "      <td>0</td>\n",
       "      <td>0</td>\n",
       "      <td>1</td>\n",
       "      <td>0</td>\n",
       "      <td>0</td>\n",
       "      <td>39.62</td>\n",
       "      <td>0</td>\n",
       "      <td>0</td>\n",
       "      <td>1</td>\n",
       "      <td>0</td>\n",
       "      <td>12</td>\n",
       "      <td>4.0</td>\n",
       "      <td>0</td>\n",
       "      <td>0</td>\n",
       "      <td>1</td>\n",
       "      <td>0</td>\n",
       "      <td>0</td>\n",
       "      <td>0.0</td>\n",
       "      <td>3</td>\n",
       "      <td>0</td>\n",
       "      <td>0</td>\n",
       "      <td>0</td>\n",
       "      <td>1</td>\n",
       "      <td>0</td>\n",
       "      <td>0</td>\n",
       "      <td>1</td>\n",
       "      <td>2073600</td>\n",
       "    </tr>\n",
       "    <tr>\n",
       "      <th>4</th>\n",
       "      <td>0</td>\n",
       "      <td>1</td>\n",
       "      <td>0</td>\n",
       "      <td>0</td>\n",
       "      <td>0</td>\n",
       "      <td>6</td>\n",
       "      <td>4.200000</td>\n",
       "      <td>8</td>\n",
       "      <td>0</td>\n",
       "      <td>512</td>\n",
       "      <td>0</td>\n",
       "      <td>0</td>\n",
       "      <td>0</td>\n",
       "      <td>0</td>\n",
       "      <td>0</td>\n",
       "      <td>0</td>\n",
       "      <td>1</td>\n",
       "      <td>0</td>\n",
       "      <td>0</td>\n",
       "      <td>0</td>\n",
       "      <td>0</td>\n",
       "      <td>0</td>\n",
       "      <td>0</td>\n",
       "      <td>39.62</td>\n",
       "      <td>0</td>\n",
       "      <td>0</td>\n",
       "      <td>1</td>\n",
       "      <td>0</td>\n",
       "      <td>12</td>\n",
       "      <td>0.0</td>\n",
       "      <td>0</td>\n",
       "      <td>0</td>\n",
       "      <td>1</td>\n",
       "      <td>0</td>\n",
       "      <td>0</td>\n",
       "      <td>0.0</td>\n",
       "      <td>2</td>\n",
       "      <td>0</td>\n",
       "      <td>1</td>\n",
       "      <td>0</td>\n",
       "      <td>0</td>\n",
       "      <td>0</td>\n",
       "      <td>0</td>\n",
       "      <td>0</td>\n",
       "      <td>2073600</td>\n",
       "    </tr>\n",
       "    <tr>\n",
       "      <th>...</th>\n",
       "      <td>...</td>\n",
       "      <td>...</td>\n",
       "      <td>...</td>\n",
       "      <td>...</td>\n",
       "      <td>...</td>\n",
       "      <td>...</td>\n",
       "      <td>...</td>\n",
       "      <td>...</td>\n",
       "      <td>...</td>\n",
       "      <td>...</td>\n",
       "      <td>...</td>\n",
       "      <td>...</td>\n",
       "      <td>...</td>\n",
       "      <td>...</td>\n",
       "      <td>...</td>\n",
       "      <td>...</td>\n",
       "      <td>...</td>\n",
       "      <td>...</td>\n",
       "      <td>...</td>\n",
       "      <td>...</td>\n",
       "      <td>...</td>\n",
       "      <td>...</td>\n",
       "      <td>...</td>\n",
       "      <td>...</td>\n",
       "      <td>...</td>\n",
       "      <td>...</td>\n",
       "      <td>...</td>\n",
       "      <td>...</td>\n",
       "      <td>...</td>\n",
       "      <td>...</td>\n",
       "      <td>...</td>\n",
       "      <td>...</td>\n",
       "      <td>...</td>\n",
       "      <td>...</td>\n",
       "      <td>...</td>\n",
       "      <td>...</td>\n",
       "      <td>...</td>\n",
       "      <td>...</td>\n",
       "      <td>...</td>\n",
       "      <td>...</td>\n",
       "      <td>...</td>\n",
       "      <td>...</td>\n",
       "      <td>...</td>\n",
       "      <td>...</td>\n",
       "      <td>...</td>\n",
       "    </tr>\n",
       "    <tr>\n",
       "      <th>950</th>\n",
       "      <td>0</td>\n",
       "      <td>1</td>\n",
       "      <td>1</td>\n",
       "      <td>0</td>\n",
       "      <td>0</td>\n",
       "      <td>10</td>\n",
       "      <td>4.169198</td>\n",
       "      <td>8</td>\n",
       "      <td>0</td>\n",
       "      <td>512</td>\n",
       "      <td>0</td>\n",
       "      <td>0</td>\n",
       "      <td>0</td>\n",
       "      <td>0</td>\n",
       "      <td>0</td>\n",
       "      <td>0</td>\n",
       "      <td>1</td>\n",
       "      <td>0</td>\n",
       "      <td>0</td>\n",
       "      <td>0</td>\n",
       "      <td>0</td>\n",
       "      <td>0</td>\n",
       "      <td>0</td>\n",
       "      <td>39.62</td>\n",
       "      <td>0</td>\n",
       "      <td>0</td>\n",
       "      <td>1</td>\n",
       "      <td>0</td>\n",
       "      <td>12</td>\n",
       "      <td>4.0</td>\n",
       "      <td>0</td>\n",
       "      <td>0</td>\n",
       "      <td>1</td>\n",
       "      <td>0</td>\n",
       "      <td>0</td>\n",
       "      <td>0.0</td>\n",
       "      <td>0</td>\n",
       "      <td>0</td>\n",
       "      <td>0</td>\n",
       "      <td>0</td>\n",
       "      <td>1</td>\n",
       "      <td>0</td>\n",
       "      <td>0</td>\n",
       "      <td>1</td>\n",
       "      <td>2073600</td>\n",
       "    </tr>\n",
       "    <tr>\n",
       "      <th>951</th>\n",
       "      <td>0</td>\n",
       "      <td>1</td>\n",
       "      <td>1</td>\n",
       "      <td>0</td>\n",
       "      <td>0</td>\n",
       "      <td>6</td>\n",
       "      <td>4.200000</td>\n",
       "      <td>16</td>\n",
       "      <td>0</td>\n",
       "      <td>512</td>\n",
       "      <td>0</td>\n",
       "      <td>0</td>\n",
       "      <td>1</td>\n",
       "      <td>0</td>\n",
       "      <td>0</td>\n",
       "      <td>0</td>\n",
       "      <td>0</td>\n",
       "      <td>0</td>\n",
       "      <td>0</td>\n",
       "      <td>0</td>\n",
       "      <td>0</td>\n",
       "      <td>0</td>\n",
       "      <td>0</td>\n",
       "      <td>40.64</td>\n",
       "      <td>0</td>\n",
       "      <td>0</td>\n",
       "      <td>1</td>\n",
       "      <td>0</td>\n",
       "      <td>12</td>\n",
       "      <td>4.0</td>\n",
       "      <td>0</td>\n",
       "      <td>0</td>\n",
       "      <td>1</td>\n",
       "      <td>0</td>\n",
       "      <td>0</td>\n",
       "      <td>0.0</td>\n",
       "      <td>3</td>\n",
       "      <td>0</td>\n",
       "      <td>0</td>\n",
       "      <td>0</td>\n",
       "      <td>1</td>\n",
       "      <td>0</td>\n",
       "      <td>0</td>\n",
       "      <td>1</td>\n",
       "      <td>2304000</td>\n",
       "    </tr>\n",
       "    <tr>\n",
       "      <th>955</th>\n",
       "      <td>1</td>\n",
       "      <td>1</td>\n",
       "      <td>1</td>\n",
       "      <td>0</td>\n",
       "      <td>0</td>\n",
       "      <td>10</td>\n",
       "      <td>4.400000</td>\n",
       "      <td>16</td>\n",
       "      <td>2</td>\n",
       "      <td>512</td>\n",
       "      <td>0</td>\n",
       "      <td>0</td>\n",
       "      <td>0</td>\n",
       "      <td>0</td>\n",
       "      <td>0</td>\n",
       "      <td>0</td>\n",
       "      <td>0</td>\n",
       "      <td>0</td>\n",
       "      <td>0</td>\n",
       "      <td>0</td>\n",
       "      <td>0</td>\n",
       "      <td>1</td>\n",
       "      <td>0</td>\n",
       "      <td>39.62</td>\n",
       "      <td>0</td>\n",
       "      <td>0</td>\n",
       "      <td>1</td>\n",
       "      <td>0</td>\n",
       "      <td>12</td>\n",
       "      <td>0.0</td>\n",
       "      <td>0</td>\n",
       "      <td>0</td>\n",
       "      <td>1</td>\n",
       "      <td>0</td>\n",
       "      <td>0</td>\n",
       "      <td>0.0</td>\n",
       "      <td>2</td>\n",
       "      <td>0</td>\n",
       "      <td>1</td>\n",
       "      <td>0</td>\n",
       "      <td>0</td>\n",
       "      <td>0</td>\n",
       "      <td>0</td>\n",
       "      <td>0</td>\n",
       "      <td>2073600</td>\n",
       "    </tr>\n",
       "    <tr>\n",
       "      <th>958</th>\n",
       "      <td>0</td>\n",
       "      <td>1</td>\n",
       "      <td>0</td>\n",
       "      <td>0</td>\n",
       "      <td>0</td>\n",
       "      <td>2</td>\n",
       "      <td>4.300000</td>\n",
       "      <td>8</td>\n",
       "      <td>0</td>\n",
       "      <td>256</td>\n",
       "      <td>1000</td>\n",
       "      <td>16</td>\n",
       "      <td>0</td>\n",
       "      <td>0</td>\n",
       "      <td>0</td>\n",
       "      <td>0</td>\n",
       "      <td>1</td>\n",
       "      <td>0</td>\n",
       "      <td>0</td>\n",
       "      <td>0</td>\n",
       "      <td>0</td>\n",
       "      <td>0</td>\n",
       "      <td>0</td>\n",
       "      <td>39.62</td>\n",
       "      <td>0</td>\n",
       "      <td>1</td>\n",
       "      <td>0</td>\n",
       "      <td>0</td>\n",
       "      <td>0</td>\n",
       "      <td>0.0</td>\n",
       "      <td>1</td>\n",
       "      <td>0</td>\n",
       "      <td>0</td>\n",
       "      <td>0</td>\n",
       "      <td>0</td>\n",
       "      <td>0.0</td>\n",
       "      <td>2</td>\n",
       "      <td>0</td>\n",
       "      <td>0</td>\n",
       "      <td>0</td>\n",
       "      <td>0</td>\n",
       "      <td>0</td>\n",
       "      <td>0</td>\n",
       "      <td>0</td>\n",
       "      <td>2073600</td>\n",
       "    </tr>\n",
       "    <tr>\n",
       "      <th>959</th>\n",
       "      <td>1</td>\n",
       "      <td>1</td>\n",
       "      <td>0</td>\n",
       "      <td>0</td>\n",
       "      <td>0</td>\n",
       "      <td>6</td>\n",
       "      <td>3.900000</td>\n",
       "      <td>8</td>\n",
       "      <td>0</td>\n",
       "      <td>512</td>\n",
       "      <td>0</td>\n",
       "      <td>0</td>\n",
       "      <td>1</td>\n",
       "      <td>0</td>\n",
       "      <td>0</td>\n",
       "      <td>0</td>\n",
       "      <td>0</td>\n",
       "      <td>0</td>\n",
       "      <td>0</td>\n",
       "      <td>0</td>\n",
       "      <td>0</td>\n",
       "      <td>0</td>\n",
       "      <td>0</td>\n",
       "      <td>35.56</td>\n",
       "      <td>0</td>\n",
       "      <td>0</td>\n",
       "      <td>1</td>\n",
       "      <td>0</td>\n",
       "      <td>13</td>\n",
       "      <td>0.0</td>\n",
       "      <td>0</td>\n",
       "      <td>0</td>\n",
       "      <td>1</td>\n",
       "      <td>0</td>\n",
       "      <td>0</td>\n",
       "      <td>0.0</td>\n",
       "      <td>2</td>\n",
       "      <td>0</td>\n",
       "      <td>1</td>\n",
       "      <td>0</td>\n",
       "      <td>0</td>\n",
       "      <td>0</td>\n",
       "      <td>0</td>\n",
       "      <td>0</td>\n",
       "      <td>2073600</td>\n",
       "    </tr>\n",
       "  </tbody>\n",
       "</table>\n",
       "<p>548 rows × 45 columns</p>\n",
       "</div>"
      ],
      "text/plain": [
       "     Finger Print Sensor  MS Office Provided  Backlit Keyboard  Touchscreen  \\\n",
       "0                      0                   0                 0            0   \n",
       "1                      0                   0                 1            0   \n",
       "2                      0                   0                 0            1   \n",
       "3                      0                   0                 0            0   \n",
       "4                      0                   1                 0            0   \n",
       "..                   ...                 ...               ...          ...   \n",
       "950                    0                   1                 1            0   \n",
       "951                    0                   1                 1            0   \n",
       "955                    1                   1                 1            0   \n",
       "958                    0                   1                 0            0   \n",
       "959                    1                   1                 0            0   \n",
       "\n",
       "     Face Recognition  Number of Cores    Rating  RAM (GB)  RAM Type Rank  \\\n",
       "0                   0                6  3.800000         8              4   \n",
       "1                   0                6  4.100000        16              0   \n",
       "2                   0                6  3.300000         4              2   \n",
       "3                   0                6  4.300000        16              0   \n",
       "4                   0                6  4.200000         8              0   \n",
       "..                ...              ...       ...       ...            ...   \n",
       "950                 0               10  4.169198         8              0   \n",
       "951                 0                6  4.200000        16              0   \n",
       "955                 0               10  4.400000        16              2   \n",
       "958                 0                2  4.300000         8              0   \n",
       "959                 0                6  3.900000         8              0   \n",
       "\n",
       "     SSD (GB)  HDD (GB)  Expandable Memory (GB)  ASUS  Acer  Apple  DELL  HP  \\\n",
       "0         256         0                       0     0     1      0     0   0   \n",
       "1         512         0                       0     0     1      0     0   0   \n",
       "2           0         0                       0     0     0      0     0   1   \n",
       "3         512         0                       0     0     0      0     0   0   \n",
       "4         512         0                       0     0     0      0     0   1   \n",
       "..        ...       ...                     ...   ...   ...    ...   ...  ..   \n",
       "950       512         0                       0     0     0      0     0   1   \n",
       "951       512         0                       0     1     0      0     0   0   \n",
       "955       512         0                       0     0     0      0     0   0   \n",
       "958       256      1000                      16     0     0      0     0   1   \n",
       "959       512         0                       0     1     0      0     0   0   \n",
       "\n",
       "     Infinix  Lenovo  MICROSOFT  MSI  SAMSUNG  others  Screen Size (mm)  \\\n",
       "0          0       0          0    0        0       0             35.56   \n",
       "1          0       0          0    0        0       0             35.56   \n",
       "2          0       0          0    0        0       0             29.46   \n",
       "3          0       0          0    1        0       0             39.62   \n",
       "4          0       0          0    0        0       0             39.62   \n",
       "..       ...     ...        ...  ...      ...     ...               ...   \n",
       "950        0       0          0    0        0       0             39.62   \n",
       "951        0       0          0    0        0       0             40.64   \n",
       "955        0       0          0    0        1       0             39.62   \n",
       "958        0       0          0    0        0       0             39.62   \n",
       "959        0       0          0    0        0       0             35.56   \n",
       "\n",
       "     drive_HDD  drive_Hybrid  drive_SSD  drive_eMMC  \\\n",
       "0            0             0          1           0   \n",
       "1            0             0          1           0   \n",
       "2            0             0          0           1   \n",
       "3            0             0          1           0   \n",
       "4            0             0          1           0   \n",
       "..         ...           ...        ...         ...   \n",
       "950          0             0          1           0   \n",
       "951          0             0          1           0   \n",
       "955          0             0          1           0   \n",
       "958          0             1          0           0   \n",
       "959          0             0          1           0   \n",
       "\n",
       "     Processor Generation_intel  Dedicated Graphic Memory Capacity (GB)  \\\n",
       "0                             0                                     0.0   \n",
       "1                            12                                     0.0   \n",
       "2                             0                                     0.0   \n",
       "3                            12                                     4.0   \n",
       "4                            12                                     0.0   \n",
       "..                          ...                                     ...   \n",
       "950                          12                                     4.0   \n",
       "951                          12                                     4.0   \n",
       "955                          12                                     0.0   \n",
       "958                           0                                     0.0   \n",
       "959                          13                                     0.0   \n",
       "\n",
       "     Processor_AMD  Processor_Apple  Processor_Intel  Processor_MediaTek  \\\n",
       "0                0                0                1                   0   \n",
       "1                0                0                1                   0   \n",
       "2                0                0                0                   1   \n",
       "3                0                0                1                   0   \n",
       "4                0                0                1                   0   \n",
       "..             ...              ...              ...                 ...   \n",
       "950              0                0                1                   0   \n",
       "951              0                0                1                   0   \n",
       "955              0                0                1                   0   \n",
       "958              1                0                0                   0   \n",
       "959              0                0                1                   0   \n",
       "\n",
       "     Processor_Qualcomm  Apple_chips  Processor_variant_new  \\\n",
       "0                     0          0.0                      1   \n",
       "1                     0          0.0                      2   \n",
       "2                     0          0.0                      0   \n",
       "3                     0          0.0                      3   \n",
       "4                     0          0.0                      2   \n",
       "..                  ...          ...                    ...   \n",
       "950                   0          0.0                      0   \n",
       "951                   0          0.0                      3   \n",
       "955                   0          0.0                      2   \n",
       "958                   0          0.0                      2   \n",
       "959                   0          0.0                      2   \n",
       "\n",
       "     Expandable SSD Capacity (GB)  Graphic_Intel  Graphic_MediaTek  \\\n",
       "0                               0              1                 0   \n",
       "1                               0              1                 0   \n",
       "2                               0              0                 1   \n",
       "3                               0              0                 0   \n",
       "4                               0              1                 0   \n",
       "..                            ...            ...               ...   \n",
       "950                             0              0                 0   \n",
       "951                             0              0                 0   \n",
       "955                             0              1                 0   \n",
       "958                             0              0                 0   \n",
       "959                             0              1                 0   \n",
       "\n",
       "     Graphic_NVIDIA  Graphic_Qualcomm  Graphic_nan  Gaming  Screen_res (pixel)  \n",
       "0                 0                 0            0       0             2073600  \n",
       "1                 0                 0            0       0             2073600  \n",
       "2                 0                 0            0       0             1049088  \n",
       "3                 1                 0            0       1             2073600  \n",
       "4                 0                 0            0       0             2073600  \n",
       "..              ...               ...          ...     ...                 ...  \n",
       "950               1                 0            0       1             2073600  \n",
       "951               1                 0            0       1             2304000  \n",
       "955               0                 0            0       0             2073600  \n",
       "958               0                 0            0       0             2073600  \n",
       "959               0                 0            0       0             2073600  \n",
       "\n",
       "[548 rows x 45 columns]"
      ]
     },
     "execution_count": 9643,
     "metadata": {},
     "output_type": "execute_result"
    }
   ],
   "source": [
    "x"
   ]
  },
  {
   "cell_type": "code",
   "execution_count": 9644,
   "id": "c4fd4ed9-fbd5-4ba4-9083-3507bb3deb50",
   "metadata": {},
   "outputs": [
    {
     "data": {
      "text/plain": [
       "45"
      ]
     },
     "execution_count": 9644,
     "metadata": {},
     "output_type": "execute_result"
    }
   ],
   "source": [
    "len(x.columns)"
   ]
  },
  {
   "cell_type": "markdown",
   "id": "b782fe49-dba5-4f65-881a-e441e90a0637",
   "metadata": {},
   "source": [
    "#### _Train Test split_"
   ]
  },
  {
   "cell_type": "code",
   "execution_count": 9646,
   "id": "11a5f25e-18b3-45a4-8c16-dd8bc92f16e5",
   "metadata": {},
   "outputs": [],
   "source": [
    "x_train,x_test,y_train,y_test=train_test_split(x,y,test_size=0.2,random_state=123)\n"
   ]
  },
  {
   "cell_type": "markdown",
   "id": "e4af62ac-7659-4414-87e9-23c510c2d27b",
   "metadata": {},
   "source": [
    "#### _Scalling_"
   ]
  },
  {
   "cell_type": "code",
   "execution_count": 9648,
   "id": "776119b0-10cf-489e-8483-a57ec1c4badc",
   "metadata": {},
   "outputs": [],
   "source": [
    "# scaler=MaxAbsScaler()\n",
    "# x_train=scaler.fit_transform(x_train)\n",
    "# x_test=scaler.transform(x_test)"
   ]
  },
  {
   "cell_type": "markdown",
   "id": "7fa81ab7-14d2-4f21-ac07-0cdcec86c6f4",
   "metadata": {},
   "source": [
    "#### _LInear_"
   ]
  },
  {
   "cell_type": "code",
   "execution_count": 9650,
   "id": "28ece716-c3ae-43d1-bf58-fa156654edf7",
   "metadata": {},
   "outputs": [
    {
     "data": {
      "text/html": [
       "<style>#sk-container-id-29 {\n",
       "  /* Definition of color scheme common for light and dark mode */\n",
       "  --sklearn-color-text: black;\n",
       "  --sklearn-color-line: gray;\n",
       "  /* Definition of color scheme for unfitted estimators */\n",
       "  --sklearn-color-unfitted-level-0: #fff5e6;\n",
       "  --sklearn-color-unfitted-level-1: #f6e4d2;\n",
       "  --sklearn-color-unfitted-level-2: #ffe0b3;\n",
       "  --sklearn-color-unfitted-level-3: chocolate;\n",
       "  /* Definition of color scheme for fitted estimators */\n",
       "  --sklearn-color-fitted-level-0: #f0f8ff;\n",
       "  --sklearn-color-fitted-level-1: #d4ebff;\n",
       "  --sklearn-color-fitted-level-2: #b3dbfd;\n",
       "  --sklearn-color-fitted-level-3: cornflowerblue;\n",
       "\n",
       "  /* Specific color for light theme */\n",
       "  --sklearn-color-text-on-default-background: var(--sg-text-color, var(--theme-code-foreground, var(--jp-content-font-color1, black)));\n",
       "  --sklearn-color-background: var(--sg-background-color, var(--theme-background, var(--jp-layout-color0, white)));\n",
       "  --sklearn-color-border-box: var(--sg-text-color, var(--theme-code-foreground, var(--jp-content-font-color1, black)));\n",
       "  --sklearn-color-icon: #696969;\n",
       "\n",
       "  @media (prefers-color-scheme: dark) {\n",
       "    /* Redefinition of color scheme for dark theme */\n",
       "    --sklearn-color-text-on-default-background: var(--sg-text-color, var(--theme-code-foreground, var(--jp-content-font-color1, white)));\n",
       "    --sklearn-color-background: var(--sg-background-color, var(--theme-background, var(--jp-layout-color0, #111)));\n",
       "    --sklearn-color-border-box: var(--sg-text-color, var(--theme-code-foreground, var(--jp-content-font-color1, white)));\n",
       "    --sklearn-color-icon: #878787;\n",
       "  }\n",
       "}\n",
       "\n",
       "#sk-container-id-29 {\n",
       "  color: var(--sklearn-color-text);\n",
       "}\n",
       "\n",
       "#sk-container-id-29 pre {\n",
       "  padding: 0;\n",
       "}\n",
       "\n",
       "#sk-container-id-29 input.sk-hidden--visually {\n",
       "  border: 0;\n",
       "  clip: rect(1px 1px 1px 1px);\n",
       "  clip: rect(1px, 1px, 1px, 1px);\n",
       "  height: 1px;\n",
       "  margin: -1px;\n",
       "  overflow: hidden;\n",
       "  padding: 0;\n",
       "  position: absolute;\n",
       "  width: 1px;\n",
       "}\n",
       "\n",
       "#sk-container-id-29 div.sk-dashed-wrapped {\n",
       "  border: 1px dashed var(--sklearn-color-line);\n",
       "  margin: 0 0.4em 0.5em 0.4em;\n",
       "  box-sizing: border-box;\n",
       "  padding-bottom: 0.4em;\n",
       "  background-color: var(--sklearn-color-background);\n",
       "}\n",
       "\n",
       "#sk-container-id-29 div.sk-container {\n",
       "  /* jupyter's `normalize.less` sets `[hidden] { display: none; }`\n",
       "     but bootstrap.min.css set `[hidden] { display: none !important; }`\n",
       "     so we also need the `!important` here to be able to override the\n",
       "     default hidden behavior on the sphinx rendered scikit-learn.org.\n",
       "     See: https://github.com/scikit-learn/scikit-learn/issues/21755 */\n",
       "  display: inline-block !important;\n",
       "  position: relative;\n",
       "}\n",
       "\n",
       "#sk-container-id-29 div.sk-text-repr-fallback {\n",
       "  display: none;\n",
       "}\n",
       "\n",
       "div.sk-parallel-item,\n",
       "div.sk-serial,\n",
       "div.sk-item {\n",
       "  /* draw centered vertical line to link estimators */\n",
       "  background-image: linear-gradient(var(--sklearn-color-text-on-default-background), var(--sklearn-color-text-on-default-background));\n",
       "  background-size: 2px 100%;\n",
       "  background-repeat: no-repeat;\n",
       "  background-position: center center;\n",
       "}\n",
       "\n",
       "/* Parallel-specific style estimator block */\n",
       "\n",
       "#sk-container-id-29 div.sk-parallel-item::after {\n",
       "  content: \"\";\n",
       "  width: 100%;\n",
       "  border-bottom: 2px solid var(--sklearn-color-text-on-default-background);\n",
       "  flex-grow: 1;\n",
       "}\n",
       "\n",
       "#sk-container-id-29 div.sk-parallel {\n",
       "  display: flex;\n",
       "  align-items: stretch;\n",
       "  justify-content: center;\n",
       "  background-color: var(--sklearn-color-background);\n",
       "  position: relative;\n",
       "}\n",
       "\n",
       "#sk-container-id-29 div.sk-parallel-item {\n",
       "  display: flex;\n",
       "  flex-direction: column;\n",
       "}\n",
       "\n",
       "#sk-container-id-29 div.sk-parallel-item:first-child::after {\n",
       "  align-self: flex-end;\n",
       "  width: 50%;\n",
       "}\n",
       "\n",
       "#sk-container-id-29 div.sk-parallel-item:last-child::after {\n",
       "  align-self: flex-start;\n",
       "  width: 50%;\n",
       "}\n",
       "\n",
       "#sk-container-id-29 div.sk-parallel-item:only-child::after {\n",
       "  width: 0;\n",
       "}\n",
       "\n",
       "/* Serial-specific style estimator block */\n",
       "\n",
       "#sk-container-id-29 div.sk-serial {\n",
       "  display: flex;\n",
       "  flex-direction: column;\n",
       "  align-items: center;\n",
       "  background-color: var(--sklearn-color-background);\n",
       "  padding-right: 1em;\n",
       "  padding-left: 1em;\n",
       "}\n",
       "\n",
       "\n",
       "/* Toggleable style: style used for estimator/Pipeline/ColumnTransformer box that is\n",
       "clickable and can be expanded/collapsed.\n",
       "- Pipeline and ColumnTransformer use this feature and define the default style\n",
       "- Estimators will overwrite some part of the style using the `sk-estimator` class\n",
       "*/\n",
       "\n",
       "/* Pipeline and ColumnTransformer style (default) */\n",
       "\n",
       "#sk-container-id-29 div.sk-toggleable {\n",
       "  /* Default theme specific background. It is overwritten whether we have a\n",
       "  specific estimator or a Pipeline/ColumnTransformer */\n",
       "  background-color: var(--sklearn-color-background);\n",
       "}\n",
       "\n",
       "/* Toggleable label */\n",
       "#sk-container-id-29 label.sk-toggleable__label {\n",
       "  cursor: pointer;\n",
       "  display: block;\n",
       "  width: 100%;\n",
       "  margin-bottom: 0;\n",
       "  padding: 0.5em;\n",
       "  box-sizing: border-box;\n",
       "  text-align: center;\n",
       "}\n",
       "\n",
       "#sk-container-id-29 label.sk-toggleable__label-arrow:before {\n",
       "  /* Arrow on the left of the label */\n",
       "  content: \"▸\";\n",
       "  float: left;\n",
       "  margin-right: 0.25em;\n",
       "  color: var(--sklearn-color-icon);\n",
       "}\n",
       "\n",
       "#sk-container-id-29 label.sk-toggleable__label-arrow:hover:before {\n",
       "  color: var(--sklearn-color-text);\n",
       "}\n",
       "\n",
       "/* Toggleable content - dropdown */\n",
       "\n",
       "#sk-container-id-29 div.sk-toggleable__content {\n",
       "  max-height: 0;\n",
       "  max-width: 0;\n",
       "  overflow: hidden;\n",
       "  text-align: left;\n",
       "  /* unfitted */\n",
       "  background-color: var(--sklearn-color-unfitted-level-0);\n",
       "}\n",
       "\n",
       "#sk-container-id-29 div.sk-toggleable__content.fitted {\n",
       "  /* fitted */\n",
       "  background-color: var(--sklearn-color-fitted-level-0);\n",
       "}\n",
       "\n",
       "#sk-container-id-29 div.sk-toggleable__content pre {\n",
       "  margin: 0.2em;\n",
       "  border-radius: 0.25em;\n",
       "  color: var(--sklearn-color-text);\n",
       "  /* unfitted */\n",
       "  background-color: var(--sklearn-color-unfitted-level-0);\n",
       "}\n",
       "\n",
       "#sk-container-id-29 div.sk-toggleable__content.fitted pre {\n",
       "  /* unfitted */\n",
       "  background-color: var(--sklearn-color-fitted-level-0);\n",
       "}\n",
       "\n",
       "#sk-container-id-29 input.sk-toggleable__control:checked~div.sk-toggleable__content {\n",
       "  /* Expand drop-down */\n",
       "  max-height: 200px;\n",
       "  max-width: 100%;\n",
       "  overflow: auto;\n",
       "}\n",
       "\n",
       "#sk-container-id-29 input.sk-toggleable__control:checked~label.sk-toggleable__label-arrow:before {\n",
       "  content: \"▾\";\n",
       "}\n",
       "\n",
       "/* Pipeline/ColumnTransformer-specific style */\n",
       "\n",
       "#sk-container-id-29 div.sk-label input.sk-toggleable__control:checked~label.sk-toggleable__label {\n",
       "  color: var(--sklearn-color-text);\n",
       "  background-color: var(--sklearn-color-unfitted-level-2);\n",
       "}\n",
       "\n",
       "#sk-container-id-29 div.sk-label.fitted input.sk-toggleable__control:checked~label.sk-toggleable__label {\n",
       "  background-color: var(--sklearn-color-fitted-level-2);\n",
       "}\n",
       "\n",
       "/* Estimator-specific style */\n",
       "\n",
       "/* Colorize estimator box */\n",
       "#sk-container-id-29 div.sk-estimator input.sk-toggleable__control:checked~label.sk-toggleable__label {\n",
       "  /* unfitted */\n",
       "  background-color: var(--sklearn-color-unfitted-level-2);\n",
       "}\n",
       "\n",
       "#sk-container-id-29 div.sk-estimator.fitted input.sk-toggleable__control:checked~label.sk-toggleable__label {\n",
       "  /* fitted */\n",
       "  background-color: var(--sklearn-color-fitted-level-2);\n",
       "}\n",
       "\n",
       "#sk-container-id-29 div.sk-label label.sk-toggleable__label,\n",
       "#sk-container-id-29 div.sk-label label {\n",
       "  /* The background is the default theme color */\n",
       "  color: var(--sklearn-color-text-on-default-background);\n",
       "}\n",
       "\n",
       "/* On hover, darken the color of the background */\n",
       "#sk-container-id-29 div.sk-label:hover label.sk-toggleable__label {\n",
       "  color: var(--sklearn-color-text);\n",
       "  background-color: var(--sklearn-color-unfitted-level-2);\n",
       "}\n",
       "\n",
       "/* Label box, darken color on hover, fitted */\n",
       "#sk-container-id-29 div.sk-label.fitted:hover label.sk-toggleable__label.fitted {\n",
       "  color: var(--sklearn-color-text);\n",
       "  background-color: var(--sklearn-color-fitted-level-2);\n",
       "}\n",
       "\n",
       "/* Estimator label */\n",
       "\n",
       "#sk-container-id-29 div.sk-label label {\n",
       "  font-family: monospace;\n",
       "  font-weight: bold;\n",
       "  display: inline-block;\n",
       "  line-height: 1.2em;\n",
       "}\n",
       "\n",
       "#sk-container-id-29 div.sk-label-container {\n",
       "  text-align: center;\n",
       "}\n",
       "\n",
       "/* Estimator-specific */\n",
       "#sk-container-id-29 div.sk-estimator {\n",
       "  font-family: monospace;\n",
       "  border: 1px dotted var(--sklearn-color-border-box);\n",
       "  border-radius: 0.25em;\n",
       "  box-sizing: border-box;\n",
       "  margin-bottom: 0.5em;\n",
       "  /* unfitted */\n",
       "  background-color: var(--sklearn-color-unfitted-level-0);\n",
       "}\n",
       "\n",
       "#sk-container-id-29 div.sk-estimator.fitted {\n",
       "  /* fitted */\n",
       "  background-color: var(--sklearn-color-fitted-level-0);\n",
       "}\n",
       "\n",
       "/* on hover */\n",
       "#sk-container-id-29 div.sk-estimator:hover {\n",
       "  /* unfitted */\n",
       "  background-color: var(--sklearn-color-unfitted-level-2);\n",
       "}\n",
       "\n",
       "#sk-container-id-29 div.sk-estimator.fitted:hover {\n",
       "  /* fitted */\n",
       "  background-color: var(--sklearn-color-fitted-level-2);\n",
       "}\n",
       "\n",
       "/* Specification for estimator info (e.g. \"i\" and \"?\") */\n",
       "\n",
       "/* Common style for \"i\" and \"?\" */\n",
       "\n",
       ".sk-estimator-doc-link,\n",
       "a:link.sk-estimator-doc-link,\n",
       "a:visited.sk-estimator-doc-link {\n",
       "  float: right;\n",
       "  font-size: smaller;\n",
       "  line-height: 1em;\n",
       "  font-family: monospace;\n",
       "  background-color: var(--sklearn-color-background);\n",
       "  border-radius: 1em;\n",
       "  height: 1em;\n",
       "  width: 1em;\n",
       "  text-decoration: none !important;\n",
       "  margin-left: 1ex;\n",
       "  /* unfitted */\n",
       "  border: var(--sklearn-color-unfitted-level-1) 1pt solid;\n",
       "  color: var(--sklearn-color-unfitted-level-1);\n",
       "}\n",
       "\n",
       ".sk-estimator-doc-link.fitted,\n",
       "a:link.sk-estimator-doc-link.fitted,\n",
       "a:visited.sk-estimator-doc-link.fitted {\n",
       "  /* fitted */\n",
       "  border: var(--sklearn-color-fitted-level-1) 1pt solid;\n",
       "  color: var(--sklearn-color-fitted-level-1);\n",
       "}\n",
       "\n",
       "/* On hover */\n",
       "div.sk-estimator:hover .sk-estimator-doc-link:hover,\n",
       ".sk-estimator-doc-link:hover,\n",
       "div.sk-label-container:hover .sk-estimator-doc-link:hover,\n",
       ".sk-estimator-doc-link:hover {\n",
       "  /* unfitted */\n",
       "  background-color: var(--sklearn-color-unfitted-level-3);\n",
       "  color: var(--sklearn-color-background);\n",
       "  text-decoration: none;\n",
       "}\n",
       "\n",
       "div.sk-estimator.fitted:hover .sk-estimator-doc-link.fitted:hover,\n",
       ".sk-estimator-doc-link.fitted:hover,\n",
       "div.sk-label-container:hover .sk-estimator-doc-link.fitted:hover,\n",
       ".sk-estimator-doc-link.fitted:hover {\n",
       "  /* fitted */\n",
       "  background-color: var(--sklearn-color-fitted-level-3);\n",
       "  color: var(--sklearn-color-background);\n",
       "  text-decoration: none;\n",
       "}\n",
       "\n",
       "/* Span, style for the box shown on hovering the info icon */\n",
       ".sk-estimator-doc-link span {\n",
       "  display: none;\n",
       "  z-index: 9999;\n",
       "  position: relative;\n",
       "  font-weight: normal;\n",
       "  right: .2ex;\n",
       "  padding: .5ex;\n",
       "  margin: .5ex;\n",
       "  width: min-content;\n",
       "  min-width: 20ex;\n",
       "  max-width: 50ex;\n",
       "  color: var(--sklearn-color-text);\n",
       "  box-shadow: 2pt 2pt 4pt #999;\n",
       "  /* unfitted */\n",
       "  background: var(--sklearn-color-unfitted-level-0);\n",
       "  border: .5pt solid var(--sklearn-color-unfitted-level-3);\n",
       "}\n",
       "\n",
       ".sk-estimator-doc-link.fitted span {\n",
       "  /* fitted */\n",
       "  background: var(--sklearn-color-fitted-level-0);\n",
       "  border: var(--sklearn-color-fitted-level-3);\n",
       "}\n",
       "\n",
       ".sk-estimator-doc-link:hover span {\n",
       "  display: block;\n",
       "}\n",
       "\n",
       "/* \"?\"-specific style due to the `<a>` HTML tag */\n",
       "\n",
       "#sk-container-id-29 a.estimator_doc_link {\n",
       "  float: right;\n",
       "  font-size: 1rem;\n",
       "  line-height: 1em;\n",
       "  font-family: monospace;\n",
       "  background-color: var(--sklearn-color-background);\n",
       "  border-radius: 1rem;\n",
       "  height: 1rem;\n",
       "  width: 1rem;\n",
       "  text-decoration: none;\n",
       "  /* unfitted */\n",
       "  color: var(--sklearn-color-unfitted-level-1);\n",
       "  border: var(--sklearn-color-unfitted-level-1) 1pt solid;\n",
       "}\n",
       "\n",
       "#sk-container-id-29 a.estimator_doc_link.fitted {\n",
       "  /* fitted */\n",
       "  border: var(--sklearn-color-fitted-level-1) 1pt solid;\n",
       "  color: var(--sklearn-color-fitted-level-1);\n",
       "}\n",
       "\n",
       "/* On hover */\n",
       "#sk-container-id-29 a.estimator_doc_link:hover {\n",
       "  /* unfitted */\n",
       "  background-color: var(--sklearn-color-unfitted-level-3);\n",
       "  color: var(--sklearn-color-background);\n",
       "  text-decoration: none;\n",
       "}\n",
       "\n",
       "#sk-container-id-29 a.estimator_doc_link.fitted:hover {\n",
       "  /* fitted */\n",
       "  background-color: var(--sklearn-color-fitted-level-3);\n",
       "}\n",
       "</style><div id=\"sk-container-id-29\" class=\"sk-top-container\"><div class=\"sk-text-repr-fallback\"><pre>LinearRegression()</pre><b>In a Jupyter environment, please rerun this cell to show the HTML representation or trust the notebook. <br />On GitHub, the HTML representation is unable to render, please try loading this page with nbviewer.org.</b></div><div class=\"sk-container\" hidden><div class=\"sk-item\"><div class=\"sk-estimator fitted sk-toggleable\"><input class=\"sk-toggleable__control sk-hidden--visually\" id=\"sk-estimator-id-29\" type=\"checkbox\" checked><label for=\"sk-estimator-id-29\" class=\"sk-toggleable__label fitted sk-toggleable__label-arrow fitted\">&nbsp;&nbsp;LinearRegression<a class=\"sk-estimator-doc-link fitted\" rel=\"noreferrer\" target=\"_blank\" href=\"https://scikit-learn.org/1.4/modules/generated/sklearn.linear_model.LinearRegression.html\">?<span>Documentation for LinearRegression</span></a><span class=\"sk-estimator-doc-link fitted\">i<span>Fitted</span></span></label><div class=\"sk-toggleable__content fitted\"><pre>LinearRegression()</pre></div> </div></div></div></div>"
      ],
      "text/plain": [
       "LinearRegression()"
      ]
     },
     "execution_count": 9650,
     "metadata": {},
     "output_type": "execute_result"
    }
   ],
   "source": [
    "lr=LinearRegression()\n",
    "lr.fit(x_train,y_train)"
   ]
  },
  {
   "cell_type": "code",
   "execution_count": 9651,
   "id": "89b45a0b-5ef2-40ab-8a83-16044e54f14b",
   "metadata": {},
   "outputs": [],
   "source": [
    "y_pred=lr.predict(x_test)"
   ]
  },
  {
   "cell_type": "code",
   "execution_count": 9652,
   "id": "2c015773-60f0-43e9-948d-f65e85cff61d",
   "metadata": {},
   "outputs": [
    {
     "data": {
      "text/plain": [
       "Text(0.5, 1.0, 'Prediction Performance')"
      ]
     },
     "execution_count": 9652,
     "metadata": {},
     "output_type": "execute_result"
    },
    {
     "data": {
      "image/png": "[encoded data removed]",
      "text/plain": [
       "<Figure size 640x480 with 1 Axes>"
      ]
     },
     "metadata": {},
     "output_type": "display_data"
    }
   ],
   "source": [
    "plt.plot(y_test,y_pred,'o',alpha=0.7)\n",
    "plt.plot([(y_test.min()),(y_test.max())],[(y_test.min()),(y_test.max())],color='black')\n",
    "plt.title('Prediction Performance')"
   ]
  },
  {
   "cell_type": "markdown",
   "id": "862bac22-841f-4569-ac04-594a44865db2",
   "metadata": {},
   "source": [
    "## Accuracy 🎯"
   ]
  },
  {
   "cell_type": "code",
   "execution_count": 9654,
   "id": "fe5e74f9-f5c7-42a7-a85b-ee5e4e2f958f",
   "metadata": {},
   "outputs": [
    {
     "name": "stdout",
     "output_type": "stream",
     "text": [
      " Mean_squared_error >> 241237329.9247492\n",
      "\n",
      " R2_score >> 0.88 \n",
      "\n",
      " Adjusted_R2_score >> 0.87\n"
     ]
    }
   ],
   "source": [
    "print(f' Mean_squared_error >> {mean_squared_error(y_test,y_pred)}\\n\\n R2_score >> {round(r2_score(y_test,y_pred),2)} \\n\\n Adjusted_R2_score >> {round(1-((1-r2_score(y_test,y_pred))*len(x_train)-1)/(len(x_train)-len(x.columns)-1),2)}')"
   ]
  },
  {
   "cell_type": "markdown",
   "id": "767d0f6d-c587-4ae3-8881-38a574c0a669",
   "metadata": {},
   "source": [
    "#### _Strong Predictive Power_ , _Effective Feature Engineering_\n",
    "- An R² of 0.88 indicates that our model explains 88% of the variance in the target variable.\n",
    "This suggests that the model has strong predictive power and is capturing the underlying patterns in the data effectively."
   ]
  },
  {
   "cell_type": "markdown",
   "id": "2d111afc-1b82-43a2-972c-449a6560b65f",
   "metadata": {},
   "source": [
    "### RESIDUAL PLOT"
   ]
  },
  {
   "cell_type": "code",
   "execution_count": 9836,
   "id": "72a9b23c-4720-4df4-810e-96dbb6726a1c",
   "metadata": {},
   "outputs": [
    {
     "data": {
      "text/plain": [
       "Text(0.5, 1.0, 'distribution of Residuals')"
      ]
     },
     "execution_count": 9836,
     "metadata": {},
     "output_type": "execute_result"
    },
    {
     "data": {
      "image/png": "[encoded data removed]",
      "text/plain": [
       "<Figure size 1200x400 with 2 Axes>"
      ]
     },
     "metadata": {},
     "output_type": "display_data"
    }
   ],
   "source": [
    "fig,ax=plt.subplots(1,2,figsize=(12,4))\n",
    "ax=ax.flatten()\n",
    "ax[1].plot(y_pred-y_test,y_pred,'o')\n",
    "ax[1].axhline(y=0,color='black')\n",
    "ax[1].set_title(\"Residual Plot\")\n",
    "sns.kdeplot(y_pred-y_test,ax=ax[0])\n",
    "ax[0].set_title('distribution of Residuals')\n",
    "#NO pattern detected"
   ]
  },
  {
   "cell_type": "code",
   "execution_count": 9856,
   "id": "35f63dcf-8b4b-4dfb-9059-2c9046d6eb93",
   "metadata": {},
   "outputs": [
    {
     "data": {
      "image/png": "[encoded data removed]",
      "text/plain": [
       "<Figure size 640x480 with 1 Axes>"
      ]
     },
     "metadata": {},
     "output_type": "display_data"
    }
   ],
   "source": [
    "stats.probplot(np.asarray(res).reshape(110),dist='norm',plot=plt);\n"
   ]
  },
  {
   "cell_type": "markdown",
   "id": "5001fb61-4eb3-4757-a3c9-9c3de26fc3b3",
   "metadata": {},
   "source": [
    "### Coefficent values of Features 🔽"
   ]
  },
  {
   "cell_type": "code",
   "execution_count": 9658,
   "id": "e56f82f6-fd3b-427e-b0a5-b8f99cf4f1fd",
   "metadata": {},
   "outputs": [
    {
     "name": "stdout",
     "output_type": "stream",
     "text": [
      "Finger Print Sensor: -951.1763200544021\n",
      "\n",
      "MS Office Provided: 135.28348919695324\n",
      "\n",
      "Backlit Keyboard: 3383.1019062842693\n",
      "\n",
      "Touchscreen: 19938.909012276836\n",
      "\n",
      "Face Recognition: -19397.31497189729\n",
      "\n",
      "Number of Cores: -699.284116138093\n",
      "\n",
      "Rating: 3241.684292059722\n",
      "\n",
      "RAM (GB): 2726.087573881206\n",
      "\n",
      "RAM Type Rank: 569.0814677944101\n",
      "\n",
      "SSD (GB): 39.83074002232245\n",
      "\n",
      "HDD (GB): 8.71161659594773\n",
      "\n",
      "Expandable Memory (GB): 10.132388237942015\n",
      "\n",
      "ASUS: -4758.88190735094\n",
      "\n",
      "Acer: -9366.353580266272\n",
      "\n",
      "Apple: -3573.7914252423648\n",
      "\n",
      "DELL: 2558.552740328365\n",
      "\n",
      "HP: 2050.6998168177843\n",
      "\n",
      "Infinix: -8363.247461589128\n",
      "\n",
      "Lenovo: -2967.0641692378185\n",
      "\n",
      "MICROSOFT: 26787.72425231753\n",
      "\n",
      "MSI: -4379.178911138027\n",
      "\n",
      "SAMSUNG: 8341.13517922293\n",
      "\n",
      "others: -6329.594535044853\n",
      "\n",
      "Screen Size (mm): 809.524120896421\n",
      "\n",
      "drive_HDD: 14630.321201816561\n",
      "\n",
      "drive_Hybrid: -5112.197076615918\n",
      "\n",
      "drive_SSD: -10485.992439960304\n",
      "\n",
      "drive_eMMC: 967.868314759594\n",
      "\n",
      "Processor Generation_intel: -411.9093593416819\n",
      "\n",
      "Dedicated Graphic Memory Capacity (GB): 6206.484283823633\n",
      "\n",
      "Processor_AMD: -3903.888546195368\n",
      "\n",
      "Processor_Apple: -3573.791424648989\n",
      "\n",
      "Processor_Intel: 8348.935447633488\n",
      "\n",
      "Processor_MediaTek: 4439.598483695314\n",
      "\n",
      "Processor_Qualcomm: -5310.853960484289\n",
      "\n",
      "Apple_chips: 17783.524571700556\n",
      "\n",
      "Processor_variant_new: -603.9731147786408\n",
      "\n",
      "Expandable SSD Capacity (GB): 10.415605975926304\n",
      "\n",
      "Graphic_Intel: -2484.7318615978884\n",
      "\n",
      "Graphic_MediaTek: 4439.598483695302\n",
      "\n",
      "Graphic_NVIDIA: -8036.376375531335\n",
      "\n",
      "Graphic_Qualcomm: 16840.476128600563\n",
      "\n",
      "Graphic_nan: 5002.583549666975\n",
      "\n",
      "Gaming: -5476.463681090043\n",
      "\n",
      "Screen_res (pixel): 0.01245749114679029\n",
      "\n"
     ]
    }
   ],
   "source": [
    "for i in range(0,len(lr.coef_[0])):\n",
    "    print(f\"{x.columns[i]}: {lr.coef_[0][i]}\")\n",
    "    print()"
   ]
  },
  {
   "cell_type": "code",
   "execution_count": 9659,
   "id": "36391b8a-8625-480d-8813-86a58e91dc11",
   "metadata": {},
   "outputs": [
    {
     "data": {
      "text/plain": [
       "Finger Print Sensor                       0.015237\n",
       "MS Office Provided                        0.113146\n",
       "Backlit Keyboard                          0.297286\n",
       "Touchscreen                               0.197142\n",
       "Face Recognition                          0.017621\n",
       "Number of Cores                           0.299607\n",
       "Rating                                    0.395496\n",
       "Price                                     1.000000\n",
       "RAM (GB)                                  0.766697\n",
       "RAM Type Rank                             0.566023\n",
       "Domestic Warranty_in_year                 0.044794\n",
       "SSD (GB)                                  0.583948\n",
       "HDD (GB)                                 -0.057306\n",
       "Expandable Memory (GB)                   -0.022308\n",
       "ASUS                                      0.018461\n",
       "Acer                                     -0.108780\n",
       "Apple                                     0.504877\n",
       "DELL                                     -0.068857\n",
       "HP                                       -0.126486\n",
       "Infinix                                  -0.044831\n",
       "Lenovo                                   -0.108656\n",
       "MICROSOFT                                 0.197851\n",
       "MSI                                       0.122633\n",
       "SAMSUNG                                   0.089990\n",
       "others                                   -0.123365\n",
       "Screen Size (mm)                         -0.012656\n",
       "drive_HDD                                -0.055057\n",
       "drive_Hybrid                             -0.038043\n",
       "drive_SSD                                 0.120951\n",
       "drive_eMMC                               -0.109776\n",
       "Processor Generation_intel               -0.080597\n",
       "Dedicated Graphic Memory Capacity (GB)    0.365869\n",
       "Processor_AMD                            -0.191014\n",
       "Processor_Apple                           0.504877\n",
       "Processor_Intel                          -0.085611\n",
       "Processor_MediaTek                       -0.064444\n",
       "Processor_Qualcomm                        0.207040\n",
       "Apple_chips                               0.536844\n",
       "Processor_variant_new                     0.057682\n",
       "Expandable SSD Capacity (GB)              0.234964\n",
       "Graphic_Intel                            -0.270394\n",
       "Graphic_MediaTek                         -0.064444\n",
       "Graphic_NA                               -0.052814\n",
       "Graphic_NVIDIA                            0.271376\n",
       "Graphic_Qualcomm                          0.211381\n",
       "Graphic_nan                               0.424060\n",
       "Gaming                                    0.256483\n",
       "Screen_res (pixel)                        0.751716\n",
       "dtype: float64"
      ]
     },
     "execution_count": 9659,
     "metadata": {},
     "output_type": "execute_result"
    }
   ],
   "source": [
    "df.select_dtypes(include='number').corrwith(df.Price)"
   ]
  }
 ],
 "metadata": {
  "kernelspec": {
   "display_name": "Python 3 (ipykernel)",
   "language": "python",
   "name": "python3"
  },
  "language_info": {
   "codemirror_mode": {
    "name": "ipython",
    "version": 3
   },
   "file_extension": ".py",
   "mimetype": "text/x-python",
   "name": "python",
   "nbconvert_exporter": "python",
   "pygments_lexer": "ipython3",
   "version": "3.12.5"
  }
 },
 "nbformat": 4,
 "nbformat_minor": 5
}
